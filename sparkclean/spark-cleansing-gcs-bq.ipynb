{
 "cells": [
  {
   "cell_type": "code",
   "execution_count": 3,
   "metadata": {},
   "outputs": [],
   "source": [
    "import sys\n",
    "import pyspark\n",
    "import pandas as pd\n",
    "import gcsfs\n",
    "from pyspark.sql import SparkSession\n",
    "from pyspark.sql import functions as F\n",
    "from pyspark.sql.functions import when\n",
    "from pyspark.sql.functions import regexp_replace"
   ]
  },
  {
   "cell_type": "code",
   "execution_count": 4,
   "metadata": {},
   "outputs": [],
   "source": [
    "#Creating the spark session\n",
    "spark = SparkSession.builder \\\n",
    "    .master(\"local[*]\") \\\n",
    "    .appName(\"finalprojclean\") \\\n",
    "    .config(\"spark.sql.inferSchema\", \"true\")\\\n",
    "    .getOrCreate()"
   ]
  },
  {
   "cell_type": "code",
   "execution_count": 5,
   "metadata": {},
   "outputs": [
    {
     "data": {
      "text/html": [
       "\n",
       "            <div>\n",
       "                <p><b>SparkSession - in-memory</b></p>\n",
       "                \n",
       "        <div>\n",
       "            <p><b>SparkContext</b></p>\n",
       "\n",
       "            <p><a href=\"http://host.docker.internal:4040\">Spark UI</a></p>\n",
       "\n",
       "            <dl>\n",
       "              <dt>Version</dt>\n",
       "                <dd><code>v3.3.2</code></dd>\n",
       "              <dt>Master</dt>\n",
       "                <dd><code>local[*]</code></dd>\n",
       "              <dt>AppName</dt>\n",
       "                <dd><code>finalprojclean</code></dd>\n",
       "            </dl>\n",
       "        </div>\n",
       "        \n",
       "            </div>\n",
       "        "
      ],
      "text/plain": [
       "<pyspark.sql.session.SparkSession at 0x26e372094d0>"
      ]
     },
     "execution_count": 5,
     "metadata": {},
     "output_type": "execute_result"
    }
   ],
   "source": [
    "spark"
   ]
  },
  {
   "cell_type": "code",
   "execution_count": 6,
   "metadata": {},
   "outputs": [
    {
     "name": "stdout",
     "output_type": "stream",
     "text": [
      " Volume in drive C is Windows\n",
      " Volume Serial Number is 208E-AA96\n",
      "\n",
      " Directory of c:\\Workspace\\cleaning\n",
      "\n",
      "04/05/2023  02:03 PM    <DIR>          .\n",
      "04/05/2023  02:03 PM    <DIR>          ..\n",
      "04/03/2023  05:33 PM           487,084 bank-additional-full-masked-null.parquet\n",
      "04/03/2023  10:11 PM         5,384,496 bank-marketing.csv\n",
      "04/03/2023  10:03 PM           480,557 bank-marketing.parquet\n",
      "04/03/2023  10:06 PM             2,186 blbla.ipynb\n",
      "04/04/2023  09:56 PM             2,334 google_credentials.json\n",
      "04/05/2023  12:14 PM             2,326 google_credentials2.json\n",
      "04/03/2023  10:16 PM            54,312 spark-cleansing.ipynb\n",
      "04/03/2023  11:10 PM             2,225 spark-cleansing.py\n",
      "               8 File(s)      6,415,520 bytes\n",
      "               2 Dir(s)  98,654,400,512 bytes free\n"
     ]
    }
   ],
   "source": [
    "ls"
   ]
  },
  {
   "cell_type": "code",
   "execution_count": 7,
   "metadata": {},
   "outputs": [],
   "source": [
    "# Create a GCS filesystem object\n",
    "fs = gcsfs.GCSFileSystem()\n",
    "\n",
    "# Open the Parquet file from GCS bucket as a Pandas DataFrame\n",
    "with fs.open(f'gs://finalprojdf9/bank-additional-full-masked-null.parquet') as f:\n",
    "    pdf = pd.read_parquet(f)"
   ]
  },
  {
   "cell_type": "code",
   "execution_count": 8,
   "metadata": {},
   "outputs": [
    {
     "name": "stderr",
     "output_type": "stream",
     "text": [
      "C:\\Users\\User\\AppData\\Roaming\\Python\\Python311\\site-packages\\pyspark\\sql\\pandas\\conversion.py:474: FutureWarning: iteritems is deprecated and will be removed in a future version. Use .items instead.\n",
      "  for column, series in pdf.iteritems():\n",
      "C:\\Users\\User\\AppData\\Roaming\\Python\\Python311\\site-packages\\pyspark\\sql\\pandas\\conversion.py:486: FutureWarning: iteritems is deprecated and will be removed in a future version. Use .items instead.\n",
      "  for column, series in pdf.iteritems():\n",
      "Traceback (most recent call last):\n",
      "  File \"C:\\Users\\User\\AppData\\Roaming\\Python\\Python311\\site-packages\\pyspark\\serializers.py\", line 458, in dumps\n",
      "    return cloudpickle.dumps(obj, pickle_protocol)\n",
      "           ^^^^^^^^^^^^^^^^^^^^^^^^^^^^^^^^^^^^^^^\n",
      "  File \"C:\\Users\\User\\AppData\\Roaming\\Python\\Python311\\site-packages\\pyspark\\cloudpickle\\cloudpickle_fast.py\", line 73, in dumps\n",
      "    cp.dump(obj)\n",
      "  File \"C:\\Users\\User\\AppData\\Roaming\\Python\\Python311\\site-packages\\pyspark\\cloudpickle\\cloudpickle_fast.py\", line 602, in dump\n",
      "    return Pickler.dump(self, obj)\n",
      "           ^^^^^^^^^^^^^^^^^^^^^^^\n",
      "  File \"C:\\Users\\User\\AppData\\Roaming\\Python\\Python311\\site-packages\\pyspark\\cloudpickle\\cloudpickle_fast.py\", line 692, in reducer_override\n",
      "    return self._function_reduce(obj)\n",
      "           ^^^^^^^^^^^^^^^^^^^^^^^^^^\n",
      "  File \"C:\\Users\\User\\AppData\\Roaming\\Python\\Python311\\site-packages\\pyspark\\cloudpickle\\cloudpickle_fast.py\", line 565, in _function_reduce\n",
      "    return self._dynamic_function_reduce(obj)\n",
      "           ^^^^^^^^^^^^^^^^^^^^^^^^^^^^^^^^^^\n",
      "  File \"C:\\Users\\User\\AppData\\Roaming\\Python\\Python311\\site-packages\\pyspark\\cloudpickle\\cloudpickle_fast.py\", line 546, in _dynamic_function_reduce\n",
      "    state = _function_getstate(func)\n",
      "            ^^^^^^^^^^^^^^^^^^^^^^^^\n",
      "  File \"C:\\Users\\User\\AppData\\Roaming\\Python\\Python311\\site-packages\\pyspark\\cloudpickle\\cloudpickle_fast.py\", line 157, in _function_getstate\n",
      "    f_globals_ref = _extract_code_globals(func.__code__)\n",
      "                    ^^^^^^^^^^^^^^^^^^^^^^^^^^^^^^^^^^^^\n",
      "  File \"C:\\Users\\User\\AppData\\Roaming\\Python\\Python311\\site-packages\\pyspark\\cloudpickle\\cloudpickle.py\", line 334, in _extract_code_globals\n",
      "    out_names = {names[oparg]: None for _, oparg in _walk_global_ops(co)}\n",
      "                ^^^^^^^^^^^^^^^^^^^^^^^^^^^^^^^^^^^^^^^^^^^^^^^^^^^^^^^^^\n",
      "  File \"C:\\Users\\User\\AppData\\Roaming\\Python\\Python311\\site-packages\\pyspark\\cloudpickle\\cloudpickle.py\", line 334, in <dictcomp>\n",
      "    out_names = {names[oparg]: None for _, oparg in _walk_global_ops(co)}\n",
      "                 ~~~~~^^^^^^^\n",
      "IndexError: tuple index out of range\n"
     ]
    },
    {
     "ename": "PicklingError",
     "evalue": "Could not serialize object: IndexError: tuple index out of range",
     "output_type": "error",
     "traceback": [
      "\u001b[1;31m---------------------------------------------------------------------------\u001b[0m",
      "\u001b[1;31mIndexError\u001b[0m                                Traceback (most recent call last)",
      "File \u001b[1;32m~\\AppData\\Roaming\\Python\\Python311\\site-packages\\pyspark\\serializers.py:458\u001b[0m, in \u001b[0;36mCloudPickleSerializer.dumps\u001b[1;34m(self, obj)\u001b[0m\n\u001b[0;32m    457\u001b[0m \u001b[39mtry\u001b[39;00m:\n\u001b[1;32m--> 458\u001b[0m     \u001b[39mreturn\u001b[39;00m cloudpickle\u001b[39m.\u001b[39;49mdumps(obj, pickle_protocol)\n\u001b[0;32m    459\u001b[0m \u001b[39mexcept\u001b[39;00m pickle\u001b[39m.\u001b[39mPickleError:\n",
      "File \u001b[1;32m~\\AppData\\Roaming\\Python\\Python311\\site-packages\\pyspark\\cloudpickle\\cloudpickle_fast.py:73\u001b[0m, in \u001b[0;36mdumps\u001b[1;34m(obj, protocol, buffer_callback)\u001b[0m\n\u001b[0;32m     70\u001b[0m cp \u001b[39m=\u001b[39m CloudPickler(\n\u001b[0;32m     71\u001b[0m     file, protocol\u001b[39m=\u001b[39mprotocol, buffer_callback\u001b[39m=\u001b[39mbuffer_callback\n\u001b[0;32m     72\u001b[0m )\n\u001b[1;32m---> 73\u001b[0m cp\u001b[39m.\u001b[39;49mdump(obj)\n\u001b[0;32m     74\u001b[0m \u001b[39mreturn\u001b[39;00m file\u001b[39m.\u001b[39mgetvalue()\n",
      "File \u001b[1;32m~\\AppData\\Roaming\\Python\\Python311\\site-packages\\pyspark\\cloudpickle\\cloudpickle_fast.py:602\u001b[0m, in \u001b[0;36mCloudPickler.dump\u001b[1;34m(self, obj)\u001b[0m\n\u001b[0;32m    601\u001b[0m \u001b[39mtry\u001b[39;00m:\n\u001b[1;32m--> 602\u001b[0m     \u001b[39mreturn\u001b[39;00m Pickler\u001b[39m.\u001b[39;49mdump(\u001b[39mself\u001b[39;49m, obj)\n\u001b[0;32m    603\u001b[0m \u001b[39mexcept\u001b[39;00m \u001b[39mRuntimeError\u001b[39;00m \u001b[39mas\u001b[39;00m e:\n",
      "File \u001b[1;32m~\\AppData\\Roaming\\Python\\Python311\\site-packages\\pyspark\\cloudpickle\\cloudpickle_fast.py:692\u001b[0m, in \u001b[0;36mCloudPickler.reducer_override\u001b[1;34m(self, obj)\u001b[0m\n\u001b[0;32m    691\u001b[0m \u001b[39melif\u001b[39;00m \u001b[39misinstance\u001b[39m(obj, types\u001b[39m.\u001b[39mFunctionType):\n\u001b[1;32m--> 692\u001b[0m     \u001b[39mreturn\u001b[39;00m \u001b[39mself\u001b[39;49m\u001b[39m.\u001b[39;49m_function_reduce(obj)\n\u001b[0;32m    693\u001b[0m \u001b[39melse\u001b[39;00m:\n\u001b[0;32m    694\u001b[0m     \u001b[39m# fallback to save_global, including the Pickler's\u001b[39;00m\n\u001b[0;32m    695\u001b[0m     \u001b[39m# dispatch_table\u001b[39;00m\n",
      "File \u001b[1;32m~\\AppData\\Roaming\\Python\\Python311\\site-packages\\pyspark\\cloudpickle\\cloudpickle_fast.py:565\u001b[0m, in \u001b[0;36mCloudPickler._function_reduce\u001b[1;34m(self, obj)\u001b[0m\n\u001b[0;32m    564\u001b[0m \u001b[39melse\u001b[39;00m:\n\u001b[1;32m--> 565\u001b[0m     \u001b[39mreturn\u001b[39;00m \u001b[39mself\u001b[39;49m\u001b[39m.\u001b[39;49m_dynamic_function_reduce(obj)\n",
      "File \u001b[1;32m~\\AppData\\Roaming\\Python\\Python311\\site-packages\\pyspark\\cloudpickle\\cloudpickle_fast.py:546\u001b[0m, in \u001b[0;36mCloudPickler._dynamic_function_reduce\u001b[1;34m(self, func)\u001b[0m\n\u001b[0;32m    545\u001b[0m newargs \u001b[39m=\u001b[39m \u001b[39mself\u001b[39m\u001b[39m.\u001b[39m_function_getnewargs(func)\n\u001b[1;32m--> 546\u001b[0m state \u001b[39m=\u001b[39m _function_getstate(func)\n\u001b[0;32m    547\u001b[0m \u001b[39mreturn\u001b[39;00m (types\u001b[39m.\u001b[39mFunctionType, newargs, state, \u001b[39mNone\u001b[39;00m, \u001b[39mNone\u001b[39;00m,\n\u001b[0;32m    548\u001b[0m         _function_setstate)\n",
      "File \u001b[1;32m~\\AppData\\Roaming\\Python\\Python311\\site-packages\\pyspark\\cloudpickle\\cloudpickle_fast.py:157\u001b[0m, in \u001b[0;36m_function_getstate\u001b[1;34m(func)\u001b[0m\n\u001b[0;32m    146\u001b[0m slotstate \u001b[39m=\u001b[39m {\n\u001b[0;32m    147\u001b[0m     \u001b[39m\"\u001b[39m\u001b[39m__name__\u001b[39m\u001b[39m\"\u001b[39m: func\u001b[39m.\u001b[39m\u001b[39m__name__\u001b[39m,\n\u001b[0;32m    148\u001b[0m     \u001b[39m\"\u001b[39m\u001b[39m__qualname__\u001b[39m\u001b[39m\"\u001b[39m: func\u001b[39m.\u001b[39m\u001b[39m__qualname__\u001b[39m,\n\u001b[1;32m   (...)\u001b[0m\n\u001b[0;32m    154\u001b[0m     \u001b[39m\"\u001b[39m\u001b[39m__closure__\u001b[39m\u001b[39m\"\u001b[39m: func\u001b[39m.\u001b[39m\u001b[39m__closure__\u001b[39m,\n\u001b[0;32m    155\u001b[0m }\n\u001b[1;32m--> 157\u001b[0m f_globals_ref \u001b[39m=\u001b[39m _extract_code_globals(func\u001b[39m.\u001b[39;49m\u001b[39m__code__\u001b[39;49m)\n\u001b[0;32m    158\u001b[0m f_globals \u001b[39m=\u001b[39m {k: func\u001b[39m.\u001b[39m\u001b[39m__globals__\u001b[39m[k] \u001b[39mfor\u001b[39;00m k \u001b[39min\u001b[39;00m f_globals_ref \u001b[39mif\u001b[39;00m k \u001b[39min\u001b[39;00m\n\u001b[0;32m    159\u001b[0m              func\u001b[39m.\u001b[39m\u001b[39m__globals__\u001b[39m}\n",
      "File \u001b[1;32m~\\AppData\\Roaming\\Python\\Python311\\site-packages\\pyspark\\cloudpickle\\cloudpickle.py:334\u001b[0m, in \u001b[0;36m_extract_code_globals\u001b[1;34m(co)\u001b[0m\n\u001b[0;32m    331\u001b[0m \u001b[39m# We use a dict with None values instead of a set to get a\u001b[39;00m\n\u001b[0;32m    332\u001b[0m \u001b[39m# deterministic order (assuming Python 3.6+) and avoid introducing\u001b[39;00m\n\u001b[0;32m    333\u001b[0m \u001b[39m# non-deterministic pickle bytes as a results.\u001b[39;00m\n\u001b[1;32m--> 334\u001b[0m out_names \u001b[39m=\u001b[39m {names[oparg]: \u001b[39mNone\u001b[39;49;00m \u001b[39mfor\u001b[39;49;00m _, oparg \u001b[39min\u001b[39;49;00m _walk_global_ops(co)}\n\u001b[0;32m    336\u001b[0m \u001b[39m# Declaring a function inside another one using the \"def ...\"\u001b[39;00m\n\u001b[0;32m    337\u001b[0m \u001b[39m# syntax generates a constant code object corresponding to the one\u001b[39;00m\n\u001b[0;32m    338\u001b[0m \u001b[39m# of the nested function's As the nested function may itself need\u001b[39;00m\n\u001b[0;32m    339\u001b[0m \u001b[39m# global variables, we need to introspect its code, extract its\u001b[39;00m\n\u001b[0;32m    340\u001b[0m \u001b[39m# globals, (look for code object in it's co_consts attribute..) and\u001b[39;00m\n\u001b[0;32m    341\u001b[0m \u001b[39m# add the result to code_globals\u001b[39;00m\n",
      "File \u001b[1;32m~\\AppData\\Roaming\\Python\\Python311\\site-packages\\pyspark\\cloudpickle\\cloudpickle.py:334\u001b[0m, in \u001b[0;36m<dictcomp>\u001b[1;34m(.0)\u001b[0m\n\u001b[0;32m    331\u001b[0m \u001b[39m# We use a dict with None values instead of a set to get a\u001b[39;00m\n\u001b[0;32m    332\u001b[0m \u001b[39m# deterministic order (assuming Python 3.6+) and avoid introducing\u001b[39;00m\n\u001b[0;32m    333\u001b[0m \u001b[39m# non-deterministic pickle bytes as a results.\u001b[39;00m\n\u001b[1;32m--> 334\u001b[0m out_names \u001b[39m=\u001b[39m {names[oparg]: \u001b[39mNone\u001b[39;00m \u001b[39mfor\u001b[39;00m _, oparg \u001b[39min\u001b[39;00m _walk_global_ops(co)}\n\u001b[0;32m    336\u001b[0m \u001b[39m# Declaring a function inside another one using the \"def ...\"\u001b[39;00m\n\u001b[0;32m    337\u001b[0m \u001b[39m# syntax generates a constant code object corresponding to the one\u001b[39;00m\n\u001b[0;32m    338\u001b[0m \u001b[39m# of the nested function's As the nested function may itself need\u001b[39;00m\n\u001b[0;32m    339\u001b[0m \u001b[39m# global variables, we need to introspect its code, extract its\u001b[39;00m\n\u001b[0;32m    340\u001b[0m \u001b[39m# globals, (look for code object in it's co_consts attribute..) and\u001b[39;00m\n\u001b[0;32m    341\u001b[0m \u001b[39m# add the result to code_globals\u001b[39;00m\n",
      "\u001b[1;31mIndexError\u001b[0m: tuple index out of range",
      "\nDuring handling of the above exception, another exception occurred:\n",
      "\u001b[1;31mPicklingError\u001b[0m                             Traceback (most recent call last)",
      "Cell \u001b[1;32mIn[8], line 1\u001b[0m\n\u001b[1;32m----> 1\u001b[0m df \u001b[39m=\u001b[39m spark\u001b[39m.\u001b[39;49mcreateDataFrame(pdf)\n",
      "File \u001b[1;32m~\\AppData\\Roaming\\Python\\Python311\\site-packages\\pyspark\\sql\\session.py:891\u001b[0m, in \u001b[0;36mSparkSession.createDataFrame\u001b[1;34m(self, data, schema, samplingRatio, verifySchema)\u001b[0m\n\u001b[0;32m    888\u001b[0m     has_pandas \u001b[39m=\u001b[39m \u001b[39mFalse\u001b[39;00m\n\u001b[0;32m    889\u001b[0m \u001b[39mif\u001b[39;00m has_pandas \u001b[39mand\u001b[39;00m \u001b[39misinstance\u001b[39m(data, pandas\u001b[39m.\u001b[39mDataFrame):\n\u001b[0;32m    890\u001b[0m     \u001b[39m# Create a DataFrame from pandas DataFrame.\u001b[39;00m\n\u001b[1;32m--> 891\u001b[0m     \u001b[39mreturn\u001b[39;00m \u001b[39msuper\u001b[39;49m(SparkSession, \u001b[39mself\u001b[39;49m)\u001b[39m.\u001b[39;49mcreateDataFrame(  \u001b[39m# type: ignore[call-overload]\u001b[39;49;00m\n\u001b[0;32m    892\u001b[0m         data, schema, samplingRatio, verifySchema\n\u001b[0;32m    893\u001b[0m     )\n\u001b[0;32m    894\u001b[0m \u001b[39mreturn\u001b[39;00m \u001b[39mself\u001b[39m\u001b[39m.\u001b[39m_create_dataframe(\n\u001b[0;32m    895\u001b[0m     data, schema, samplingRatio, verifySchema  \u001b[39m# type: ignore[arg-type]\u001b[39;00m\n\u001b[0;32m    896\u001b[0m )\n",
      "File \u001b[1;32m~\\AppData\\Roaming\\Python\\Python311\\site-packages\\pyspark\\sql\\pandas\\conversion.py:437\u001b[0m, in \u001b[0;36mSparkConversionMixin.createDataFrame\u001b[1;34m(self, data, schema, samplingRatio, verifySchema)\u001b[0m\n\u001b[0;32m    435\u001b[0m             \u001b[39mraise\u001b[39;00m\n\u001b[0;32m    436\u001b[0m converted_data \u001b[39m=\u001b[39m \u001b[39mself\u001b[39m\u001b[39m.\u001b[39m_convert_from_pandas(data, schema, timezone)\n\u001b[1;32m--> 437\u001b[0m \u001b[39mreturn\u001b[39;00m \u001b[39mself\u001b[39;49m\u001b[39m.\u001b[39;49m_create_dataframe(converted_data, schema, samplingRatio, verifySchema)\n",
      "File \u001b[1;32m~\\AppData\\Roaming\\Python\\Python311\\site-packages\\pyspark\\sql\\session.py:938\u001b[0m, in \u001b[0;36mSparkSession._create_dataframe\u001b[1;34m(self, data, schema, samplingRatio, verifySchema)\u001b[0m\n\u001b[0;32m    936\u001b[0m     rdd, struct \u001b[39m=\u001b[39m \u001b[39mself\u001b[39m\u001b[39m.\u001b[39m_createFromLocal(\u001b[39mmap\u001b[39m(prepare, data), schema)\n\u001b[0;32m    937\u001b[0m \u001b[39massert\u001b[39;00m \u001b[39mself\u001b[39m\u001b[39m.\u001b[39m_jvm \u001b[39mis\u001b[39;00m \u001b[39mnot\u001b[39;00m \u001b[39mNone\u001b[39;00m\n\u001b[1;32m--> 938\u001b[0m jrdd \u001b[39m=\u001b[39m \u001b[39mself\u001b[39m\u001b[39m.\u001b[39m_jvm\u001b[39m.\u001b[39mSerDeUtil\u001b[39m.\u001b[39mtoJavaArray(rdd\u001b[39m.\u001b[39;49m_to_java_object_rdd())\n\u001b[0;32m    939\u001b[0m jdf \u001b[39m=\u001b[39m \u001b[39mself\u001b[39m\u001b[39m.\u001b[39m_jsparkSession\u001b[39m.\u001b[39mapplySchemaToPythonRDD(jrdd\u001b[39m.\u001b[39mrdd(), struct\u001b[39m.\u001b[39mjson())\n\u001b[0;32m    940\u001b[0m df \u001b[39m=\u001b[39m DataFrame(jdf, \u001b[39mself\u001b[39m)\n",
      "File \u001b[1;32m~\\AppData\\Roaming\\Python\\Python311\\site-packages\\pyspark\\rdd.py:3113\u001b[0m, in \u001b[0;36mRDD._to_java_object_rdd\u001b[1;34m(self)\u001b[0m\n\u001b[0;32m   3110\u001b[0m rdd \u001b[39m=\u001b[39m \u001b[39mself\u001b[39m\u001b[39m.\u001b[39m_pickled()\n\u001b[0;32m   3111\u001b[0m \u001b[39massert\u001b[39;00m \u001b[39mself\u001b[39m\u001b[39m.\u001b[39mctx\u001b[39m.\u001b[39m_jvm \u001b[39mis\u001b[39;00m \u001b[39mnot\u001b[39;00m \u001b[39mNone\u001b[39;00m\n\u001b[1;32m-> 3113\u001b[0m \u001b[39mreturn\u001b[39;00m \u001b[39mself\u001b[39m\u001b[39m.\u001b[39mctx\u001b[39m.\u001b[39m_jvm\u001b[39m.\u001b[39mSerDeUtil\u001b[39m.\u001b[39mpythonToJava(rdd\u001b[39m.\u001b[39;49m_jrdd, \u001b[39mTrue\u001b[39;00m)\n",
      "File \u001b[1;32m~\\AppData\\Roaming\\Python\\Python311\\site-packages\\pyspark\\rdd.py:3505\u001b[0m, in \u001b[0;36mPipelinedRDD._jrdd\u001b[1;34m(self)\u001b[0m\n\u001b[0;32m   3502\u001b[0m \u001b[39melse\u001b[39;00m:\n\u001b[0;32m   3503\u001b[0m     profiler \u001b[39m=\u001b[39m \u001b[39mNone\u001b[39;00m\n\u001b[1;32m-> 3505\u001b[0m wrapped_func \u001b[39m=\u001b[39m _wrap_function(\n\u001b[0;32m   3506\u001b[0m     \u001b[39mself\u001b[39;49m\u001b[39m.\u001b[39;49mctx, \u001b[39mself\u001b[39;49m\u001b[39m.\u001b[39;49mfunc, \u001b[39mself\u001b[39;49m\u001b[39m.\u001b[39;49m_prev_jrdd_deserializer, \u001b[39mself\u001b[39;49m\u001b[39m.\u001b[39;49m_jrdd_deserializer, profiler\n\u001b[0;32m   3507\u001b[0m )\n\u001b[0;32m   3509\u001b[0m \u001b[39massert\u001b[39;00m \u001b[39mself\u001b[39m\u001b[39m.\u001b[39mctx\u001b[39m.\u001b[39m_jvm \u001b[39mis\u001b[39;00m \u001b[39mnot\u001b[39;00m \u001b[39mNone\u001b[39;00m\n\u001b[0;32m   3510\u001b[0m python_rdd \u001b[39m=\u001b[39m \u001b[39mself\u001b[39m\u001b[39m.\u001b[39mctx\u001b[39m.\u001b[39m_jvm\u001b[39m.\u001b[39mPythonRDD(\n\u001b[0;32m   3511\u001b[0m     \u001b[39mself\u001b[39m\u001b[39m.\u001b[39m_prev_jrdd\u001b[39m.\u001b[39mrdd(), wrapped_func, \u001b[39mself\u001b[39m\u001b[39m.\u001b[39mpreservesPartitioning, \u001b[39mself\u001b[39m\u001b[39m.\u001b[39mis_barrier\n\u001b[0;32m   3512\u001b[0m )\n",
      "File \u001b[1;32m~\\AppData\\Roaming\\Python\\Python311\\site-packages\\pyspark\\rdd.py:3362\u001b[0m, in \u001b[0;36m_wrap_function\u001b[1;34m(sc, func, deserializer, serializer, profiler)\u001b[0m\n\u001b[0;32m   3360\u001b[0m \u001b[39massert\u001b[39;00m serializer, \u001b[39m\"\u001b[39m\u001b[39mserializer should not be empty\u001b[39m\u001b[39m\"\u001b[39m\n\u001b[0;32m   3361\u001b[0m command \u001b[39m=\u001b[39m (func, profiler, deserializer, serializer)\n\u001b[1;32m-> 3362\u001b[0m pickled_command, broadcast_vars, env, includes \u001b[39m=\u001b[39m _prepare_for_python_RDD(sc, command)\n\u001b[0;32m   3363\u001b[0m \u001b[39massert\u001b[39;00m sc\u001b[39m.\u001b[39m_jvm \u001b[39mis\u001b[39;00m \u001b[39mnot\u001b[39;00m \u001b[39mNone\u001b[39;00m\n\u001b[0;32m   3364\u001b[0m \u001b[39mreturn\u001b[39;00m sc\u001b[39m.\u001b[39m_jvm\u001b[39m.\u001b[39mPythonFunction(\n\u001b[0;32m   3365\u001b[0m     \u001b[39mbytearray\u001b[39m(pickled_command),\n\u001b[0;32m   3366\u001b[0m     env,\n\u001b[1;32m   (...)\u001b[0m\n\u001b[0;32m   3371\u001b[0m     sc\u001b[39m.\u001b[39m_javaAccumulator,\n\u001b[0;32m   3372\u001b[0m )\n",
      "File \u001b[1;32m~\\AppData\\Roaming\\Python\\Python311\\site-packages\\pyspark\\rdd.py:3345\u001b[0m, in \u001b[0;36m_prepare_for_python_RDD\u001b[1;34m(sc, command)\u001b[0m\n\u001b[0;32m   3342\u001b[0m \u001b[39mdef\u001b[39;00m \u001b[39m_prepare_for_python_RDD\u001b[39m(sc: \u001b[39m\"\u001b[39m\u001b[39mSparkContext\u001b[39m\u001b[39m\"\u001b[39m, command: Any) \u001b[39m-\u001b[39m\u001b[39m>\u001b[39m Tuple[\u001b[39mbytes\u001b[39m, Any, Any, Any]:\n\u001b[0;32m   3343\u001b[0m     \u001b[39m# the serialized command will be compressed by broadcast\u001b[39;00m\n\u001b[0;32m   3344\u001b[0m     ser \u001b[39m=\u001b[39m CloudPickleSerializer()\n\u001b[1;32m-> 3345\u001b[0m     pickled_command \u001b[39m=\u001b[39m ser\u001b[39m.\u001b[39;49mdumps(command)\n\u001b[0;32m   3346\u001b[0m     \u001b[39massert\u001b[39;00m sc\u001b[39m.\u001b[39m_jvm \u001b[39mis\u001b[39;00m \u001b[39mnot\u001b[39;00m \u001b[39mNone\u001b[39;00m\n\u001b[0;32m   3347\u001b[0m     \u001b[39mif\u001b[39;00m \u001b[39mlen\u001b[39m(pickled_command) \u001b[39m>\u001b[39m sc\u001b[39m.\u001b[39m_jvm\u001b[39m.\u001b[39mPythonUtils\u001b[39m.\u001b[39mgetBroadcastThreshold(sc\u001b[39m.\u001b[39m_jsc):  \u001b[39m# Default 1M\u001b[39;00m\n\u001b[0;32m   3348\u001b[0m         \u001b[39m# The broadcast will have same life cycle as created PythonRDD\u001b[39;00m\n",
      "File \u001b[1;32m~\\AppData\\Roaming\\Python\\Python311\\site-packages\\pyspark\\serializers.py:468\u001b[0m, in \u001b[0;36mCloudPickleSerializer.dumps\u001b[1;34m(self, obj)\u001b[0m\n\u001b[0;32m    466\u001b[0m     msg \u001b[39m=\u001b[39m \u001b[39m\"\u001b[39m\u001b[39mCould not serialize object: \u001b[39m\u001b[39m%s\u001b[39;00m\u001b[39m: \u001b[39m\u001b[39m%s\u001b[39;00m\u001b[39m\"\u001b[39m \u001b[39m%\u001b[39m (e\u001b[39m.\u001b[39m\u001b[39m__class__\u001b[39m\u001b[39m.\u001b[39m\u001b[39m__name__\u001b[39m, emsg)\n\u001b[0;32m    467\u001b[0m print_exec(sys\u001b[39m.\u001b[39mstderr)\n\u001b[1;32m--> 468\u001b[0m \u001b[39mraise\u001b[39;00m pickle\u001b[39m.\u001b[39mPicklingError(msg)\n",
      "\u001b[1;31mPicklingError\u001b[0m: Could not serialize object: IndexError: tuple index out of range"
     ]
    }
   ],
   "source": [
    "# Convert pandas df to spark df\n",
    "df = spark.createDataFrame(pdf)"
   ]
  },
  {
   "cell_type": "code",
   "execution_count": 16,
   "metadata": {},
   "outputs": [
    {
     "name": "stdout",
     "output_type": "stream",
     "text": [
      "+---------+---+-----------+--------+-------------------+-------+-------+----+---------+-----+----+-----------+--------+--------+-----+--------+-----------+------------+--------------+-------------+---------+-----------+---+\n",
      "|client_id|age|        job| marital|          education|default|housing|loan|  contact|month|year|day_of_week|duration|campaign|pdays|previous|   poutcome|emp.var.rate|cons.price.idx|cons.conf.idx|euribor3m|nr.employed|  y|\n",
      "+---------+---+-----------+--------+-------------------+-------+-------+----+---------+-----+----+-----------+--------+--------+-----+--------+-----------+------------+--------------+-------------+---------+-----------+---+\n",
      "|        1| 56|  housemaid| married|           basic.4y|     no|     no|  no|telephone|  may|2008|        mon|     261|       1|  999|       0|nonexistent|         1.1|        93.994|        -36.4|    4.857|     5191.0| no|\n",
      "|        2| 57|   services| married|        high.school|unknown|     no|  no|telephone|  may|2008|        mon|     149|       1|  999|       0|nonexistent|         1.1|        93.994|        -36.4|    4.857|     5191.0| no|\n",
      "|        3| 37|   services| married|        high.school|     no|    yes|  no|telephone|  may|2008|        mon|     226|       1|  999|       0|nonexistent|         1.1|        93.994|        -36.4|    4.857|     5191.0| no|\n",
      "|        4| 40|     admin.| married|           basic.6y|     no|     no|  no|telephone|  may|2008|        mon|     151|       1|  999|       0|nonexistent|         1.1|        93.994|        -36.4|    4.857|     5191.0| no|\n",
      "|        5| 56|   services| married|        high.school|     no|     no| yes|telephone|  may|2008|        mon|     307|       1|  999|       0|nonexistent|         1.1|        93.994|        -36.4|    4.857|     5191.0| no|\n",
      "|        6| 45|   services| married|           basic.9y|unknown|     no|  no|telephone|  may|2008|        mon|     198|       1|  999|       0|nonexistent|         1.1|        93.994|        -36.4|    4.857|     5191.0| no|\n",
      "|        7| 59|     admin.| married|professional.course|     no|     no|  no|telephone|  may|2008|        mon|     139|       1|  999|       0|nonexistent|         1.1|        93.994|        -36.4|    4.857|     5191.0| no|\n",
      "|        8| 41|blue-collar| married|            unknown|unknown|     no|  no|telephone|  may|2008|        mon|     217|       1|  999|       0|nonexistent|         1.1|        93.994|        -36.4|    4.857|     5191.0| no|\n",
      "|        9| 24| technician|  single|professional.course|     no|    yes|  no|telephone|  may|2008|        mon|     380|       1|  999|       0|nonexistent|         1.1|        93.994|        -36.4|    4.857|     5191.0| no|\n",
      "|       10| 25|   services|  single|        high.school|     no|    yes|  no|telephone|  may|2008|        mon|      50|       1|  999|       0|nonexistent|         1.1|        93.994|        -36.4|    4.857|     5191.0| no|\n",
      "|       11| 41|blue-collar| married|            unknown|unknown|     no|  no|telephone|  may|2008|        mon|      55|       1|  999|       0|nonexistent|         1.1|        93.994|        -36.4|    4.857|     5191.0| no|\n",
      "|       12| 25|   services|  single|        high.school|     no|    yes|  no|telephone|  may|2008|        mon|     222|       1|  999|       0|nonexistent|         1.1|        93.994|        -36.4|    4.857|     5191.0| no|\n",
      "|       13| 29|blue-collar|  single|        high.school|     no|     no| yes|telephone|  may|2008|        mon|     137|       1|  999|       0|nonexistent|         1.1|        93.994|        -36.4|    4.857|     5191.0| no|\n",
      "|       14| 57|  housemaid|divorced|           basic.4y|     no|    yes|  no|telephone|  may|2008|        mon|     293|       1|  999|       0|nonexistent|         1.1|        93.994|        -36.4|    4.857|     5191.0| no|\n",
      "|       15| 35|blue-collar| married|           basic.6y|     no|    yes|  no|telephone|  may|2008|        mon|     146|       1|  999|       0|nonexistent|         1.1|        93.994|        -36.4|    4.857|     5191.0| no|\n",
      "|       16| 54|    retired| married|           basic.9y|unknown|    yes| yes|telephone|  may|2008|        mon|     174|       1|  999|       0|nonexistent|         1.1|        93.994|        -36.4|    4.857|     5191.0| no|\n",
      "|       17| 35|blue-collar| married|           basic.6y|     no|    yes|  no|telephone|  may|2008|        mon|     312|       1|  999|       0|nonexistent|         1.1|        93.994|        -36.4|    4.857|     5191.0| no|\n",
      "|       18| 46|blue-collar| married|           basic.6y|unknown|    yes| yes|telephone|  may|2008|        mon|     440|       1|  999|       0|nonexistent|         1.1|        93.994|        -36.4|    4.857|     5191.0| no|\n",
      "|       19| 50|blue-collar| married|           basic.9y|     no|    yes| yes|telephone|  may|2008|        mon|     353|       1|  999|       0|nonexistent|         1.1|        93.994|        -36.4|    4.857|     5191.0| no|\n",
      "|       20| 39| management|  single|           basic.9y|unknown|     no|  no|telephone|  may|2008|        mon|     195|       1|  999|       0|nonexistent|         1.1|        93.994|        -36.4|    4.857|     5191.0| no|\n",
      "+---------+---+-----------+--------+-------------------+-------+-------+----+---------+-----+----+-----------+--------+--------+-----+--------+-----------+------------+--------------+-------------+---------+-----------+---+\n",
      "only showing top 20 rows\n",
      "\n"
     ]
    }
   ],
   "source": [
    "df.show()"
   ]
  },
  {
   "cell_type": "code",
   "execution_count": 17,
   "metadata": {},
   "outputs": [
    {
     "data": {
      "text/plain": [
       "41188"
      ]
     },
     "execution_count": 17,
     "metadata": {},
     "output_type": "execute_result"
    }
   ],
   "source": [
    "df.count()"
   ]
  },
  {
   "cell_type": "code",
   "execution_count": 18,
   "metadata": {},
   "outputs": [
    {
     "name": "stdout",
     "output_type": "stream",
     "text": [
      "root\n",
      " |-- client_id: long (nullable = true)\n",
      " |-- age: long (nullable = true)\n",
      " |-- job: string (nullable = true)\n",
      " |-- marital: string (nullable = true)\n",
      " |-- education: string (nullable = true)\n",
      " |-- default: string (nullable = true)\n",
      " |-- housing: string (nullable = true)\n",
      " |-- loan: string (nullable = true)\n",
      " |-- contact: string (nullable = true)\n",
      " |-- month: string (nullable = true)\n",
      " |-- year: long (nullable = true)\n",
      " |-- day_of_week: string (nullable = true)\n",
      " |-- duration: long (nullable = true)\n",
      " |-- campaign: long (nullable = true)\n",
      " |-- pdays: long (nullable = true)\n",
      " |-- previous: long (nullable = true)\n",
      " |-- poutcome: string (nullable = true)\n",
      " |-- emp.var.rate: double (nullable = true)\n",
      " |-- cons.price.idx: double (nullable = true)\n",
      " |-- cons.conf.idx: double (nullable = true)\n",
      " |-- euribor3m: double (nullable = true)\n",
      " |-- nr.employed: double (nullable = true)\n",
      " |-- y: string (nullable = true)\n",
      "\n"
     ]
    }
   ],
   "source": [
    "df.printSchema()"
   ]
  },
  {
   "cell_type": "code",
   "execution_count": 19,
   "metadata": {},
   "outputs": [
    {
     "name": "stdout",
     "output_type": "stream",
     "text": [
      "+-------------------+\n",
      "|          education|\n",
      "+-------------------+\n",
      "|           basic.4y|\n",
      "|        high.school|\n",
      "|        high.school|\n",
      "|           basic.6y|\n",
      "|        high.school|\n",
      "|           basic.9y|\n",
      "|professional.course|\n",
      "|            unknown|\n",
      "|professional.course|\n",
      "|        high.school|\n",
      "|            unknown|\n",
      "|        high.school|\n",
      "|        high.school|\n",
      "|           basic.4y|\n",
      "|           basic.6y|\n",
      "|           basic.9y|\n",
      "|           basic.6y|\n",
      "|           basic.6y|\n",
      "|           basic.9y|\n",
      "|           basic.9y|\n",
      "+-------------------+\n",
      "only showing top 20 rows\n",
      "\n"
     ]
    }
   ],
   "source": [
    "df.select('education').show()"
   ]
  },
  {
   "cell_type": "code",
   "execution_count": 20,
   "metadata": {},
   "outputs": [],
   "source": [
    "# 1. standardize the education value\n",
    "df = df.withColumn(\"education\",\n",
    "                                        when(df.education.endswith('4y'), regexp_replace(df.education, 'basic.4y', 'basic')) \\\n",
    "                                        .when(df.education.endswith('6y'), regexp_replace(df.education, 'basic.6y', 'basic')) \\\n",
    "                                         .when(df.education.endswith('9y'), regexp_replace(df.education, 'basic.9y', 'basic')) \\\n",
    "                                         .otherwise(df.education)\n",
    "                                        )"
   ]
  },
  {
   "cell_type": "code",
   "execution_count": 21,
   "metadata": {},
   "outputs": [
    {
     "name": "stdout",
     "output_type": "stream",
     "text": [
      "+---------+---+-----------+--------+-------------------+-------+-------+----+---------+-----+----+-----------+--------+--------+-----+--------+-----------+------------+--------------+-------------+---------+-----------+---+\n",
      "|client_id|age|        job| marital|          education|default|housing|loan|  contact|month|year|day_of_week|duration|campaign|pdays|previous|   poutcome|emp.var.rate|cons.price.idx|cons.conf.idx|euribor3m|nr.employed|  y|\n",
      "+---------+---+-----------+--------+-------------------+-------+-------+----+---------+-----+----+-----------+--------+--------+-----+--------+-----------+------------+--------------+-------------+---------+-----------+---+\n",
      "|        1| 56|  housemaid| married|              basic|     no|     no|  no|telephone|  may|2008|        mon|     261|       1|  999|       0|nonexistent|         1.1|        93.994|        -36.4|    4.857|     5191.0| no|\n",
      "|        2| 57|   services| married|        high.school|unknown|     no|  no|telephone|  may|2008|        mon|     149|       1|  999|       0|nonexistent|         1.1|        93.994|        -36.4|    4.857|     5191.0| no|\n",
      "|        3| 37|   services| married|        high.school|     no|    yes|  no|telephone|  may|2008|        mon|     226|       1|  999|       0|nonexistent|         1.1|        93.994|        -36.4|    4.857|     5191.0| no|\n",
      "|        4| 40|     admin.| married|              basic|     no|     no|  no|telephone|  may|2008|        mon|     151|       1|  999|       0|nonexistent|         1.1|        93.994|        -36.4|    4.857|     5191.0| no|\n",
      "|        5| 56|   services| married|        high.school|     no|     no| yes|telephone|  may|2008|        mon|     307|       1|  999|       0|nonexistent|         1.1|        93.994|        -36.4|    4.857|     5191.0| no|\n",
      "|        6| 45|   services| married|              basic|unknown|     no|  no|telephone|  may|2008|        mon|     198|       1|  999|       0|nonexistent|         1.1|        93.994|        -36.4|    4.857|     5191.0| no|\n",
      "|        7| 59|     admin.| married|professional.course|     no|     no|  no|telephone|  may|2008|        mon|     139|       1|  999|       0|nonexistent|         1.1|        93.994|        -36.4|    4.857|     5191.0| no|\n",
      "|        8| 41|blue-collar| married|            unknown|unknown|     no|  no|telephone|  may|2008|        mon|     217|       1|  999|       0|nonexistent|         1.1|        93.994|        -36.4|    4.857|     5191.0| no|\n",
      "|        9| 24| technician|  single|professional.course|     no|    yes|  no|telephone|  may|2008|        mon|     380|       1|  999|       0|nonexistent|         1.1|        93.994|        -36.4|    4.857|     5191.0| no|\n",
      "|       10| 25|   services|  single|        high.school|     no|    yes|  no|telephone|  may|2008|        mon|      50|       1|  999|       0|nonexistent|         1.1|        93.994|        -36.4|    4.857|     5191.0| no|\n",
      "|       11| 41|blue-collar| married|            unknown|unknown|     no|  no|telephone|  may|2008|        mon|      55|       1|  999|       0|nonexistent|         1.1|        93.994|        -36.4|    4.857|     5191.0| no|\n",
      "|       12| 25|   services|  single|        high.school|     no|    yes|  no|telephone|  may|2008|        mon|     222|       1|  999|       0|nonexistent|         1.1|        93.994|        -36.4|    4.857|     5191.0| no|\n",
      "|       13| 29|blue-collar|  single|        high.school|     no|     no| yes|telephone|  may|2008|        mon|     137|       1|  999|       0|nonexistent|         1.1|        93.994|        -36.4|    4.857|     5191.0| no|\n",
      "|       14| 57|  housemaid|divorced|              basic|     no|    yes|  no|telephone|  may|2008|        mon|     293|       1|  999|       0|nonexistent|         1.1|        93.994|        -36.4|    4.857|     5191.0| no|\n",
      "|       15| 35|blue-collar| married|              basic|     no|    yes|  no|telephone|  may|2008|        mon|     146|       1|  999|       0|nonexistent|         1.1|        93.994|        -36.4|    4.857|     5191.0| no|\n",
      "|       16| 54|    retired| married|              basic|unknown|    yes| yes|telephone|  may|2008|        mon|     174|       1|  999|       0|nonexistent|         1.1|        93.994|        -36.4|    4.857|     5191.0| no|\n",
      "|       17| 35|blue-collar| married|              basic|     no|    yes|  no|telephone|  may|2008|        mon|     312|       1|  999|       0|nonexistent|         1.1|        93.994|        -36.4|    4.857|     5191.0| no|\n",
      "|       18| 46|blue-collar| married|              basic|unknown|    yes| yes|telephone|  may|2008|        mon|     440|       1|  999|       0|nonexistent|         1.1|        93.994|        -36.4|    4.857|     5191.0| no|\n",
      "|       19| 50|blue-collar| married|              basic|     no|    yes| yes|telephone|  may|2008|        mon|     353|       1|  999|       0|nonexistent|         1.1|        93.994|        -36.4|    4.857|     5191.0| no|\n",
      "|       20| 39| management|  single|              basic|unknown|     no|  no|telephone|  may|2008|        mon|     195|       1|  999|       0|nonexistent|         1.1|        93.994|        -36.4|    4.857|     5191.0| no|\n",
      "+---------+---+-----------+--------+-------------------+-------+-------+----+---------+-----+----+-----------+--------+--------+-----+--------+-----------+------------+--------------+-------------+---------+-----------+---+\n",
      "only showing top 20 rows\n",
      "\n"
     ]
    }
   ],
   "source": [
    "df.show()"
   ]
  },
  {
   "cell_type": "code",
   "execution_count": 22,
   "metadata": {},
   "outputs": [
    {
     "name": "stdout",
     "output_type": "stream",
     "text": [
      "+---------+---+----+--------+-------------------+-------+-------+----+---------+-----+----+-----------+--------+--------+-----+--------+-----------+------------+--------------+-------------+---------+-----------+---+\n",
      "|client_id|age| job| marital|          education|default|housing|loan|  contact|month|year|day_of_week|duration|campaign|pdays|previous|   poutcome|emp.var.rate|cons.price.idx|cons.conf.idx|euribor3m|nr.employed|  y|\n",
      "+---------+---+----+--------+-------------------+-------+-------+----+---------+-----+----+-----------+--------+--------+-----+--------+-----------+------------+--------------+-------------+---------+-----------+---+\n",
      "|      968| 31|null| married|              basic|     no|    yes|  no|telephone|  may|2008|        wed|     650|       1|  999|       0|nonexistent|         1.1|        93.994|        -36.4|    4.856|     5191.0| no|\n",
      "|     3000| 42|null| married|              basic|     no|    yes| yes|telephone|  may|2008|        wed|      97|       5|  999|       0|nonexistent|         1.1|        93.994|        -36.4|    4.859|     5191.0| no|\n",
      "|     3831| 39|null|divorced|              basic|unknown|     no|  no|telephone|  may|2008|        fri|     827|       2|  999|       0|nonexistent|         1.1|        93.994|        -36.4|    4.859|     5191.0| no|\n",
      "|     4092| 43|null|divorced|        high.school|     no|    yes|  no|telephone|  may|2008|        mon|     191|       4|  999|       0|nonexistent|         1.1|        93.994|        -36.4|    4.858|     5191.0| no|\n",
      "|     4479| 39|null| married|professional.course|     no|    yes|  no|telephone|  may|2008|        tue|     185|       2|  999|       0|nonexistent|         1.1|        93.994|        -36.4|    4.856|     5191.0| no|\n",
      "|     6954| 37|null| married|professional.course|     no|     no| yes|telephone|  may|2008|        thu|      44|       1|  999|       0|nonexistent|         1.1|        93.994|        -36.4|     4.86|     5191.0| no|\n",
      "|     7590| 49|null|divorced|        high.school|     no|     no|  no|telephone|  may|2008|        fri|     152|       1|  999|       0|nonexistent|         1.1|        93.994|        -36.4|    4.864|     5191.0| no|\n",
      "|     9569| 46|null|divorced|              basic|     no|    yes|  no|telephone|  jun|2008|        mon|     217|       1|  999|       0|nonexistent|         1.4|        94.465|        -41.8|    4.961|     5228.1| no|\n",
      "|    10502| 37|null|  single|  university.degree|     no|    yes| yes|telephone|  jun|2008|        tue|      43|       1|  999|       0|nonexistent|         1.4|        94.465|        -41.8|    4.961|     5228.1| no|\n",
      "|    10649| 57|null| married|              basic|unknown|     no|  no|telephone|  jun|2008|        tue|     986|       1|  999|       0|nonexistent|         1.4|        94.465|        -41.8|    4.961|     5228.1| no|\n",
      "|    13050| 38|null| married|              basic|unknown|     no|  no| cellular|  jul|2008|        tue|     283|       2|  999|       0|nonexistent|         1.4|        93.918|        -42.7|    4.962|     5228.1| no|\n",
      "|    13241| 45|null|divorced|              basic|     no|    yes|null| cellular|  jul|2008|        wed|     294|       1|  999|       0|nonexistent|         1.4|        93.918|        -42.7|    4.962|     5228.1| no|\n",
      "|    13351| 26|null|  single|  university.degree|     no|    yes|  no| cellular|  jul|2008|        wed|      70|       1|  999|       0|nonexistent|         1.4|        93.918|        -42.7|    4.962|     5228.1| no|\n",
      "|    17974| 30|null| married|professional.course|     no|     no|  no| cellular|  jul|2008|        tue|     333|      19|  999|       0|nonexistent|         1.4|        93.918|        -42.7|    4.961|     5228.1| no|\n",
      "|    18456| 32|null| married|  university.degree|     no|     no|  no| cellular|  jul|2008|        thu|     100|       1|  999|       0|nonexistent|         1.4|        93.918|        -42.7|    4.968|     5228.1| no|\n",
      "|    19254| 49|null| married|professional.course|unknown|    yes|  no| cellular|  aug|2008|        wed|     397|       2|  999|       0|nonexistent|         1.4|        93.444|        -36.1|    4.967|     5228.1|yes|\n",
      "|    19840| 29|null|  single|        high.school|     no|     no|  no| cellular|  aug|2008|        fri|      31|       1|  999|       0|nonexistent|         1.4|        93.444|        -36.1|    4.966|     5228.1| no|\n",
      "|    20789| 34|null| married|professional.course|     no|     no|  no| cellular|  aug|2008|        wed|    1148|       2|  999|       0|nonexistent|         1.4|        93.444|        -36.1|    4.965|     5228.1|yes|\n",
      "|    23157| 40|null| married|  university.degree|     no|     no|  no| cellular|  aug|2008|        tue|      17|      11|  999|       0|nonexistent|         1.4|        93.444|        -36.1|    4.965|     5228.1| no|\n",
      "|    23330| 54|null| married|        high.school|     no|    yes|  no| cellular|  aug|2008|        wed|      82|       2|  999|       0|nonexistent|         1.4|        93.444|        -36.1|    4.964|     5228.1| no|\n",
      "+---------+---+----+--------+-------------------+-------+-------+----+---------+-----+----+-----------+--------+--------+-----+--------+-----------+------------+--------------+-------------+---------+-----------+---+\n",
      "only showing top 20 rows\n",
      "\n"
     ]
    }
   ],
   "source": [
    "from pyspark.sql.functions import col, sum\n",
    "\n",
    "df.filter(col(\"job\").isNull()).show()"
   ]
  },
  {
   "cell_type": "code",
   "execution_count": 23,
   "metadata": {},
   "outputs": [],
   "source": [
    "# 2. some column name need to be standardized because spark can't read it\n",
    "df = df.withColumnRenamed('emp.var.rate', 'emp_var_rate') \\\n",
    "    .withColumnRenamed('cons.price.idx', 'cons_price_idx') \\\n",
    "    .withColumnRenamed('cons.conf.idx', 'cons_conf_idx') \\\n",
    "    .withColumnRenamed('nr.employed', 'nr_employed') \\\n",
    "    .withColumnRenamed('default', 'credit')"
   ]
  },
  {
   "cell_type": "code",
   "execution_count": 24,
   "metadata": {},
   "outputs": [
    {
     "name": "stdout",
     "output_type": "stream",
     "text": [
      "+---------+---+---+-------+---------+------+-------+----+-------+-----+----+-----------+--------+--------+-----+--------+--------+------------+--------------+-------------+---------+-----------+---+\n",
      "|client_id|age|job|marital|education|credit|housing|loan|contact|month|year|day_of_week|duration|campaign|pdays|previous|poutcome|emp_var_rate|cons_price_idx|cons_conf_idx|euribor3m|nr_employed|  y|\n",
      "+---------+---+---+-------+---------+------+-------+----+-------+-----+----+-----------+--------+--------+-----+--------+--------+------------+--------------+-------------+---------+-----------+---+\n",
      "|        0|  0| 38|     31|       35|    24|     38|  38|     42|   38|   0|         57|       0|       0|    0|       0|      44|           0|             0|            0|        0|          0| 38|\n",
      "+---------+---+---+-------+---------+------+-------+----+-------+-----+----+-----------+--------+--------+-----+--------+--------+------------+--------------+-------------+---------+-----------+---+\n",
      "\n"
     ]
    }
   ],
   "source": [
    "null_counts = df.select([sum(col(c).isNull().cast(\"int\")).alias(c) for c in df.columns])\n",
    "\n",
    "# show null counts\n",
    "null_counts.show()"
   ]
  },
  {
   "cell_type": "code",
   "execution_count": 25,
   "metadata": {},
   "outputs": [
    {
     "data": {
      "text/plain": [
       "40766"
      ]
     },
     "execution_count": 25,
     "metadata": {},
     "output_type": "execute_result"
    }
   ],
   "source": [
    "# 3. dropping null value\n",
    "df = df.na.drop(\"any\")\n",
    "df.count()"
   ]
  },
  {
   "cell_type": "code",
   "execution_count": 26,
   "metadata": {},
   "outputs": [
    {
     "name": "stdout",
     "output_type": "stream",
     "text": [
      "+---------+---+---+-------+---------+------+-------+----+-------+-----+----+-----------+--------+--------+-----+--------+--------+------------+--------------+-------------+---------+-----------+---+\n",
      "|client_id|age|job|marital|education|credit|housing|loan|contact|month|year|day_of_week|duration|campaign|pdays|previous|poutcome|emp_var_rate|cons_price_idx|cons_conf_idx|euribor3m|nr_employed|  y|\n",
      "+---------+---+---+-------+---------+------+-------+----+-------+-----+----+-----------+--------+--------+-----+--------+--------+------------+--------------+-------------+---------+-----------+---+\n",
      "|        0|  0|  0|      0|        0|     0|      0|   0|      0|    0|   0|          0|       0|       0|    0|       0|       0|           0|             0|            0|        0|          0|  0|\n",
      "+---------+---+---+-------+---------+------+-------+----+-------+-----+----+-----------+--------+--------+-----+--------+--------+------------+--------------+-------------+---------+-----------+---+\n",
      "\n"
     ]
    }
   ],
   "source": [
    "null_counts = df.select([sum(col(c).isNull().cast(\"int\")).alias(c) for c in df.columns])\n",
    "\n",
    "# show null counts\n",
    "null_counts.show()"
   ]
  },
  {
   "cell_type": "code",
   "execution_count": 27,
   "metadata": {},
   "outputs": [
    {
     "name": "stdout",
     "output_type": "stream",
     "text": [
      "+----+\n",
      "|year|\n",
      "+----+\n",
      "|2008|\n",
      "|2008|\n",
      "|2008|\n",
      "|2008|\n",
      "|2008|\n",
      "|2008|\n",
      "|2008|\n",
      "|2008|\n",
      "|2008|\n",
      "|2008|\n",
      "|2008|\n",
      "|2008|\n",
      "|2008|\n",
      "|2008|\n",
      "|2008|\n",
      "|2008|\n",
      "|2008|\n",
      "|2008|\n",
      "|2008|\n",
      "|2008|\n",
      "+----+\n",
      "only showing top 20 rows\n",
      "\n"
     ]
    }
   ],
   "source": [
    "df.select('year').show()"
   ]
  },
  {
   "cell_type": "code",
   "execution_count": 28,
   "metadata": {},
   "outputs": [
    {
     "data": {
      "text/plain": [
       "[('year', 'bigint')]"
      ]
     },
     "execution_count": 28,
     "metadata": {},
     "output_type": "execute_result"
    }
   ],
   "source": [
    "df.select('year').dtypes"
   ]
  },
  {
   "cell_type": "code",
   "execution_count": 29,
   "metadata": {},
   "outputs": [
    {
     "name": "stdout",
     "output_type": "stream",
     "text": [
      "+---------+---+-----------+--------+-------------------+-------+-------+----+---------+-----+----+-----------+--------+--------+-----+--------+-----------+------------+--------------+-------------+---------+-----------+---+\n",
      "|client_id|age|        job| marital|          education| credit|housing|loan|  contact|month|year|day_of_week|duration|campaign|pdays|previous|   poutcome|emp_var_rate|cons_price_idx|cons_conf_idx|euribor3m|nr_employed|  y|\n",
      "+---------+---+-----------+--------+-------------------+-------+-------+----+---------+-----+----+-----------+--------+--------+-----+--------+-----------+------------+--------------+-------------+---------+-----------+---+\n",
      "|        1| 56|  housemaid| married|              basic|     no|     no|  no|telephone|  may|2008|        mon|     261|       1|  999|       0|nonexistent|         1.1|        93.994|        -36.4|    4.857|     5191.0| no|\n",
      "|        2| 57|   services| married|        high.school|unknown|     no|  no|telephone|  may|2008|        mon|     149|       1|  999|       0|nonexistent|         1.1|        93.994|        -36.4|    4.857|     5191.0| no|\n",
      "|        3| 37|   services| married|        high.school|     no|    yes|  no|telephone|  may|2008|        mon|     226|       1|  999|       0|nonexistent|         1.1|        93.994|        -36.4|    4.857|     5191.0| no|\n",
      "|        4| 40|     admin.| married|              basic|     no|     no|  no|telephone|  may|2008|        mon|     151|       1|  999|       0|nonexistent|         1.1|        93.994|        -36.4|    4.857|     5191.0| no|\n",
      "|        5| 56|   services| married|        high.school|     no|     no| yes|telephone|  may|2008|        mon|     307|       1|  999|       0|nonexistent|         1.1|        93.994|        -36.4|    4.857|     5191.0| no|\n",
      "|        6| 45|   services| married|              basic|unknown|     no|  no|telephone|  may|2008|        mon|     198|       1|  999|       0|nonexistent|         1.1|        93.994|        -36.4|    4.857|     5191.0| no|\n",
      "|        7| 59|     admin.| married|professional.course|     no|     no|  no|telephone|  may|2008|        mon|     139|       1|  999|       0|nonexistent|         1.1|        93.994|        -36.4|    4.857|     5191.0| no|\n",
      "|        8| 41|blue-collar| married|            unknown|unknown|     no|  no|telephone|  may|2008|        mon|     217|       1|  999|       0|nonexistent|         1.1|        93.994|        -36.4|    4.857|     5191.0| no|\n",
      "|        9| 24| technician|  single|professional.course|     no|    yes|  no|telephone|  may|2008|        mon|     380|       1|  999|       0|nonexistent|         1.1|        93.994|        -36.4|    4.857|     5191.0| no|\n",
      "|       10| 25|   services|  single|        high.school|     no|    yes|  no|telephone|  may|2008|        mon|      50|       1|  999|       0|nonexistent|         1.1|        93.994|        -36.4|    4.857|     5191.0| no|\n",
      "|       11| 41|blue-collar| married|            unknown|unknown|     no|  no|telephone|  may|2008|        mon|      55|       1|  999|       0|nonexistent|         1.1|        93.994|        -36.4|    4.857|     5191.0| no|\n",
      "|       12| 25|   services|  single|        high.school|     no|    yes|  no|telephone|  may|2008|        mon|     222|       1|  999|       0|nonexistent|         1.1|        93.994|        -36.4|    4.857|     5191.0| no|\n",
      "|       13| 29|blue-collar|  single|        high.school|     no|     no| yes|telephone|  may|2008|        mon|     137|       1|  999|       0|nonexistent|         1.1|        93.994|        -36.4|    4.857|     5191.0| no|\n",
      "|       14| 57|  housemaid|divorced|              basic|     no|    yes|  no|telephone|  may|2008|        mon|     293|       1|  999|       0|nonexistent|         1.1|        93.994|        -36.4|    4.857|     5191.0| no|\n",
      "|       15| 35|blue-collar| married|              basic|     no|    yes|  no|telephone|  may|2008|        mon|     146|       1|  999|       0|nonexistent|         1.1|        93.994|        -36.4|    4.857|     5191.0| no|\n",
      "|       16| 54|    retired| married|              basic|unknown|    yes| yes|telephone|  may|2008|        mon|     174|       1|  999|       0|nonexistent|         1.1|        93.994|        -36.4|    4.857|     5191.0| no|\n",
      "|       17| 35|blue-collar| married|              basic|     no|    yes|  no|telephone|  may|2008|        mon|     312|       1|  999|       0|nonexistent|         1.1|        93.994|        -36.4|    4.857|     5191.0| no|\n",
      "|       18| 46|blue-collar| married|              basic|unknown|    yes| yes|telephone|  may|2008|        mon|     440|       1|  999|       0|nonexistent|         1.1|        93.994|        -36.4|    4.857|     5191.0| no|\n",
      "|       19| 50|blue-collar| married|              basic|     no|    yes| yes|telephone|  may|2008|        mon|     353|       1|  999|       0|nonexistent|         1.1|        93.994|        -36.4|    4.857|     5191.0| no|\n",
      "|       20| 39| management|  single|              basic|unknown|     no|  no|telephone|  may|2008|        mon|     195|       1|  999|       0|nonexistent|         1.1|        93.994|        -36.4|    4.857|     5191.0| no|\n",
      "+---------+---+-----------+--------+-------------------+-------+-------+----+---------+-----+----+-----------+--------+--------+-----+--------+-----------+------------+--------------+-------------+---------+-----------+---+\n",
      "only showing top 20 rows\n",
      "\n"
     ]
    }
   ],
   "source": [
    "df.show()"
   ]
  },
  {
   "cell_type": "code",
   "execution_count": 30,
   "metadata": {},
   "outputs": [
    {
     "data": {
      "text/plain": [
       "[Row(client_id=41169, age=38, job='entrepreneur', marital='married', education='university.degree', credit='no', housing='no', loan='no', contact='cellular', month='nov', year=2010, day_of_week='wed', duration=144, campaign=2, pdays=999, previous=0, poutcome='nonexistent', emp_var_rate=-1.1, cons_price_idx=94.767, cons_conf_idx=-50.8, euribor3m=1.03, nr_employed=4963.6, y='no', date='11'),\n",
       " Row(client_id=41170, age=62, job='services', marital='married', education='high.school', credit='no', housing='yes', loan='no', contact='cellular', month='nov', year=2010, day_of_week='wed', duration=154, campaign=5, pdays=999, previous=0, poutcome='nonexistent', emp_var_rate=-1.1, cons_price_idx=94.767, cons_conf_idx=-50.8, euribor3m=1.03, nr_employed=4963.6, y='no', date='11'),\n",
       " Row(client_id=41171, age=40, job='management', marital='divorced', education='university.degree', credit='no', housing='yes', loan='no', contact='cellular', month='nov', year=2010, day_of_week='wed', duration=293, campaign=2, pdays=999, previous=4, poutcome='failure', emp_var_rate=-1.1, cons_price_idx=94.767, cons_conf_idx=-50.8, euribor3m=1.03, nr_employed=4963.6, y='no', date='11'),\n",
       " Row(client_id=41172, age=33, job='student', marital='married', education='professional.course', credit='no', housing='yes', loan='no', contact='telephone', month='nov', year=2010, day_of_week='thu', duration=112, campaign=1, pdays=999, previous=0, poutcome='nonexistent', emp_var_rate=-1.1, cons_price_idx=94.767, cons_conf_idx=-50.8, euribor3m=1.031, nr_employed=4963.6, y='yes', date='11'),\n",
       " Row(client_id=41173, age=31, job='admin.', marital='single', education='university.degree', credit='no', housing='yes', loan='no', contact='cellular', month='nov', year=2010, day_of_week='thu', duration=353, campaign=1, pdays=999, previous=0, poutcome='nonexistent', emp_var_rate=-1.1, cons_price_idx=94.767, cons_conf_idx=-50.8, euribor3m=1.031, nr_employed=4963.6, y='yes', date='11'),\n",
       " Row(client_id=41174, age=62, job='retired', marital='married', education='university.degree', credit='no', housing='yes', loan='no', contact='cellular', month='nov', year=2010, day_of_week='thu', duration=329, campaign=1, pdays=999, previous=2, poutcome='failure', emp_var_rate=-1.1, cons_price_idx=94.767, cons_conf_idx=-50.8, euribor3m=1.031, nr_employed=4963.6, y='yes', date='11'),\n",
       " Row(client_id=41175, age=62, job='retired', marital='married', education='university.degree', credit='no', housing='yes', loan='no', contact='cellular', month='nov', year=2010, day_of_week='thu', duration=208, campaign=1, pdays=1, previous=6, poutcome='success', emp_var_rate=-1.1, cons_price_idx=94.767, cons_conf_idx=-50.8, euribor3m=1.031, nr_employed=4963.6, y='yes', date='11'),\n",
       " Row(client_id=41176, age=34, job='student', marital='single', education='unknown', credit='no', housing='yes', loan='no', contact='cellular', month='nov', year=2010, day_of_week='thu', duration=180, campaign=1, pdays=999, previous=2, poutcome='failure', emp_var_rate=-1.1, cons_price_idx=94.767, cons_conf_idx=-50.8, euribor3m=1.031, nr_employed=4963.6, y='no', date='11'),\n",
       " Row(client_id=41177, age=38, job='housemaid', marital='divorced', education='high.school', credit='no', housing='yes', loan='yes', contact='cellular', month='nov', year=2010, day_of_week='thu', duration=360, campaign=1, pdays=999, previous=0, poutcome='nonexistent', emp_var_rate=-1.1, cons_price_idx=94.767, cons_conf_idx=-50.8, euribor3m=1.031, nr_employed=4963.6, y='no', date='11'),\n",
       " Row(client_id=41178, age=57, job='retired', marital='married', education='professional.course', credit='no', housing='yes', loan='no', contact='cellular', month='nov', year=2010, day_of_week='thu', duration=124, campaign=6, pdays=999, previous=0, poutcome='nonexistent', emp_var_rate=-1.1, cons_price_idx=94.767, cons_conf_idx=-50.8, euribor3m=1.031, nr_employed=4963.6, y='no', date='11'),\n",
       " Row(client_id=41179, age=62, job='retired', marital='married', education='university.degree', credit='no', housing='no', loan='no', contact='cellular', month='nov', year=2010, day_of_week='thu', duration=483, campaign=2, pdays=6, previous=3, poutcome='success', emp_var_rate=-1.1, cons_price_idx=94.767, cons_conf_idx=-50.8, euribor3m=1.031, nr_employed=4963.6, y='yes', date='11'),\n",
       " Row(client_id=41180, age=64, job='retired', marital='divorced', education='professional.course', credit='no', housing='yes', loan='no', contact='cellular', month='nov', year=2010, day_of_week='fri', duration=151, campaign=3, pdays=999, previous=0, poutcome='nonexistent', emp_var_rate=-1.1, cons_price_idx=94.767, cons_conf_idx=-50.8, euribor3m=1.028, nr_employed=4963.6, y='no', date='11'),\n",
       " Row(client_id=41181, age=36, job='admin.', marital='married', education='university.degree', credit='no', housing='no', loan='no', contact='cellular', month='nov', year=2010, day_of_week='fri', duration=254, campaign=2, pdays=999, previous=0, poutcome='nonexistent', emp_var_rate=-1.1, cons_price_idx=94.767, cons_conf_idx=-50.8, euribor3m=1.028, nr_employed=4963.6, y='no', date='11'),\n",
       " Row(client_id=41182, age=37, job='admin.', marital='married', education='university.degree', credit='no', housing='yes', loan='no', contact='cellular', month='nov', year=2010, day_of_week='fri', duration=281, campaign=1, pdays=999, previous=0, poutcome='nonexistent', emp_var_rate=-1.1, cons_price_idx=94.767, cons_conf_idx=-50.8, euribor3m=1.028, nr_employed=4963.6, y='yes', date='11'),\n",
       " Row(client_id=41183, age=29, job='unemployed', marital='single', education='basic', credit='no', housing='yes', loan='no', contact='cellular', month='nov', year=2010, day_of_week='fri', duration=112, campaign=1, pdays=9, previous=1, poutcome='success', emp_var_rate=-1.1, cons_price_idx=94.767, cons_conf_idx=-50.8, euribor3m=1.028, nr_employed=4963.6, y='no', date='11'),\n",
       " Row(client_id=41184, age=73, job='retired', marital='married', education='professional.course', credit='no', housing='yes', loan='no', contact='cellular', month='nov', year=2010, day_of_week='fri', duration=334, campaign=1, pdays=999, previous=0, poutcome='nonexistent', emp_var_rate=-1.1, cons_price_idx=94.767, cons_conf_idx=-50.8, euribor3m=1.028, nr_employed=4963.6, y='yes', date='11'),\n",
       " Row(client_id=41185, age=46, job='blue-collar', marital='married', education='professional.course', credit='no', housing='no', loan='no', contact='cellular', month='nov', year=2010, day_of_week='fri', duration=383, campaign=1, pdays=999, previous=0, poutcome='nonexistent', emp_var_rate=-1.1, cons_price_idx=94.767, cons_conf_idx=-50.8, euribor3m=1.028, nr_employed=4963.6, y='no', date='11'),\n",
       " Row(client_id=41186, age=56, job='retired', marital='married', education='university.degree', credit='no', housing='yes', loan='no', contact='cellular', month='nov', year=2010, day_of_week='fri', duration=189, campaign=2, pdays=999, previous=0, poutcome='nonexistent', emp_var_rate=-1.1, cons_price_idx=94.767, cons_conf_idx=-50.8, euribor3m=1.028, nr_employed=4963.6, y='no', date='11'),\n",
       " Row(client_id=41187, age=44, job='technician', marital='married', education='professional.course', credit='no', housing='no', loan='no', contact='cellular', month='nov', year=2010, day_of_week='fri', duration=442, campaign=1, pdays=999, previous=0, poutcome='nonexistent', emp_var_rate=-1.1, cons_price_idx=94.767, cons_conf_idx=-50.8, euribor3m=1.028, nr_employed=4963.6, y='yes', date='11'),\n",
       " Row(client_id=41188, age=74, job='retired', marital='married', education='professional.course', credit='no', housing='yes', loan='no', contact='cellular', month='nov', year=2010, day_of_week='fri', duration=239, campaign=3, pdays=999, previous=1, poutcome='failure', emp_var_rate=-1.1, cons_price_idx=94.767, cons_conf_idx=-50.8, euribor3m=1.028, nr_employed=4963.6, y='no', date='11')]"
      ]
     },
     "execution_count": 30,
     "metadata": {},
     "output_type": "execute_result"
    }
   ],
   "source": [
    "from pyspark.sql.functions import to_date, date_format\n",
    "\n",
    "# 4. change the month data type into date\n",
    "df = df.withColumn(\"date\", to_date(\"month\", \"MMM\").alias(\"date\")) \\\n",
    "       .withColumn(\"date\", date_format(\"date\", \"MM\").alias(\"date\"))\n",
    "\n",
    "df.tail(20)"
   ]
  },
  {
   "cell_type": "code",
   "execution_count": 31,
   "metadata": {},
   "outputs": [],
   "source": [
    "from pyspark.sql.functions import concat, lit\n",
    "\n",
    "# 5. combine the month and year value in month column\n",
    "df = df.withColumn(\"date2\", concat(df[\"year\"], lit(\"-\"), df[\"date\"])) \\\n",
    "       .withColumn(\"date2\", date_format(\"date2\", \"yyyyMM\")) \\\n",
    "       .withColumn(\"date2\", to_date(\"date2\", \"yyyyMM\")) \\\n",
    "       .drop(\"date\", \"month\", \"year\")\n",
    "\n",
    "       "
   ]
  },
  {
   "cell_type": "code",
   "execution_count": 32,
   "metadata": {},
   "outputs": [
    {
     "data": {
      "text/plain": [
       "[Row(client_id=41169, age=38, job='entrepreneur', marital='married', education='university.degree', credit='no', housing='no', loan='no', contact='cellular', day_of_week='wed', duration=144, campaign=2, pdays=999, previous=0, poutcome='nonexistent', emp_var_rate=-1.1, cons_price_idx=94.767, cons_conf_idx=-50.8, euribor3m=1.03, nr_employed=4963.6, y='no', date=datetime.date(2010, 11, 1)),\n",
       " Row(client_id=41170, age=62, job='services', marital='married', education='high.school', credit='no', housing='yes', loan='no', contact='cellular', day_of_week='wed', duration=154, campaign=5, pdays=999, previous=0, poutcome='nonexistent', emp_var_rate=-1.1, cons_price_idx=94.767, cons_conf_idx=-50.8, euribor3m=1.03, nr_employed=4963.6, y='no', date=datetime.date(2010, 11, 1)),\n",
       " Row(client_id=41171, age=40, job='management', marital='divorced', education='university.degree', credit='no', housing='yes', loan='no', contact='cellular', day_of_week='wed', duration=293, campaign=2, pdays=999, previous=4, poutcome='failure', emp_var_rate=-1.1, cons_price_idx=94.767, cons_conf_idx=-50.8, euribor3m=1.03, nr_employed=4963.6, y='no', date=datetime.date(2010, 11, 1)),\n",
       " Row(client_id=41172, age=33, job='student', marital='married', education='professional.course', credit='no', housing='yes', loan='no', contact='telephone', day_of_week='thu', duration=112, campaign=1, pdays=999, previous=0, poutcome='nonexistent', emp_var_rate=-1.1, cons_price_idx=94.767, cons_conf_idx=-50.8, euribor3m=1.031, nr_employed=4963.6, y='yes', date=datetime.date(2010, 11, 1)),\n",
       " Row(client_id=41173, age=31, job='admin.', marital='single', education='university.degree', credit='no', housing='yes', loan='no', contact='cellular', day_of_week='thu', duration=353, campaign=1, pdays=999, previous=0, poutcome='nonexistent', emp_var_rate=-1.1, cons_price_idx=94.767, cons_conf_idx=-50.8, euribor3m=1.031, nr_employed=4963.6, y='yes', date=datetime.date(2010, 11, 1)),\n",
       " Row(client_id=41174, age=62, job='retired', marital='married', education='university.degree', credit='no', housing='yes', loan='no', contact='cellular', day_of_week='thu', duration=329, campaign=1, pdays=999, previous=2, poutcome='failure', emp_var_rate=-1.1, cons_price_idx=94.767, cons_conf_idx=-50.8, euribor3m=1.031, nr_employed=4963.6, y='yes', date=datetime.date(2010, 11, 1)),\n",
       " Row(client_id=41175, age=62, job='retired', marital='married', education='university.degree', credit='no', housing='yes', loan='no', contact='cellular', day_of_week='thu', duration=208, campaign=1, pdays=1, previous=6, poutcome='success', emp_var_rate=-1.1, cons_price_idx=94.767, cons_conf_idx=-50.8, euribor3m=1.031, nr_employed=4963.6, y='yes', date=datetime.date(2010, 11, 1)),\n",
       " Row(client_id=41176, age=34, job='student', marital='single', education='unknown', credit='no', housing='yes', loan='no', contact='cellular', day_of_week='thu', duration=180, campaign=1, pdays=999, previous=2, poutcome='failure', emp_var_rate=-1.1, cons_price_idx=94.767, cons_conf_idx=-50.8, euribor3m=1.031, nr_employed=4963.6, y='no', date=datetime.date(2010, 11, 1)),\n",
       " Row(client_id=41177, age=38, job='housemaid', marital='divorced', education='high.school', credit='no', housing='yes', loan='yes', contact='cellular', day_of_week='thu', duration=360, campaign=1, pdays=999, previous=0, poutcome='nonexistent', emp_var_rate=-1.1, cons_price_idx=94.767, cons_conf_idx=-50.8, euribor3m=1.031, nr_employed=4963.6, y='no', date=datetime.date(2010, 11, 1)),\n",
       " Row(client_id=41178, age=57, job='retired', marital='married', education='professional.course', credit='no', housing='yes', loan='no', contact='cellular', day_of_week='thu', duration=124, campaign=6, pdays=999, previous=0, poutcome='nonexistent', emp_var_rate=-1.1, cons_price_idx=94.767, cons_conf_idx=-50.8, euribor3m=1.031, nr_employed=4963.6, y='no', date=datetime.date(2010, 11, 1)),\n",
       " Row(client_id=41179, age=62, job='retired', marital='married', education='university.degree', credit='no', housing='no', loan='no', contact='cellular', day_of_week='thu', duration=483, campaign=2, pdays=6, previous=3, poutcome='success', emp_var_rate=-1.1, cons_price_idx=94.767, cons_conf_idx=-50.8, euribor3m=1.031, nr_employed=4963.6, y='yes', date=datetime.date(2010, 11, 1)),\n",
       " Row(client_id=41180, age=64, job='retired', marital='divorced', education='professional.course', credit='no', housing='yes', loan='no', contact='cellular', day_of_week='fri', duration=151, campaign=3, pdays=999, previous=0, poutcome='nonexistent', emp_var_rate=-1.1, cons_price_idx=94.767, cons_conf_idx=-50.8, euribor3m=1.028, nr_employed=4963.6, y='no', date=datetime.date(2010, 11, 1)),\n",
       " Row(client_id=41181, age=36, job='admin.', marital='married', education='university.degree', credit='no', housing='no', loan='no', contact='cellular', day_of_week='fri', duration=254, campaign=2, pdays=999, previous=0, poutcome='nonexistent', emp_var_rate=-1.1, cons_price_idx=94.767, cons_conf_idx=-50.8, euribor3m=1.028, nr_employed=4963.6, y='no', date=datetime.date(2010, 11, 1)),\n",
       " Row(client_id=41182, age=37, job='admin.', marital='married', education='university.degree', credit='no', housing='yes', loan='no', contact='cellular', day_of_week='fri', duration=281, campaign=1, pdays=999, previous=0, poutcome='nonexistent', emp_var_rate=-1.1, cons_price_idx=94.767, cons_conf_idx=-50.8, euribor3m=1.028, nr_employed=4963.6, y='yes', date=datetime.date(2010, 11, 1)),\n",
       " Row(client_id=41183, age=29, job='unemployed', marital='single', education='basic', credit='no', housing='yes', loan='no', contact='cellular', day_of_week='fri', duration=112, campaign=1, pdays=9, previous=1, poutcome='success', emp_var_rate=-1.1, cons_price_idx=94.767, cons_conf_idx=-50.8, euribor3m=1.028, nr_employed=4963.6, y='no', date=datetime.date(2010, 11, 1)),\n",
       " Row(client_id=41184, age=73, job='retired', marital='married', education='professional.course', credit='no', housing='yes', loan='no', contact='cellular', day_of_week='fri', duration=334, campaign=1, pdays=999, previous=0, poutcome='nonexistent', emp_var_rate=-1.1, cons_price_idx=94.767, cons_conf_idx=-50.8, euribor3m=1.028, nr_employed=4963.6, y='yes', date=datetime.date(2010, 11, 1)),\n",
       " Row(client_id=41185, age=46, job='blue-collar', marital='married', education='professional.course', credit='no', housing='no', loan='no', contact='cellular', day_of_week='fri', duration=383, campaign=1, pdays=999, previous=0, poutcome='nonexistent', emp_var_rate=-1.1, cons_price_idx=94.767, cons_conf_idx=-50.8, euribor3m=1.028, nr_employed=4963.6, y='no', date=datetime.date(2010, 11, 1)),\n",
       " Row(client_id=41186, age=56, job='retired', marital='married', education='university.degree', credit='no', housing='yes', loan='no', contact='cellular', day_of_week='fri', duration=189, campaign=2, pdays=999, previous=0, poutcome='nonexistent', emp_var_rate=-1.1, cons_price_idx=94.767, cons_conf_idx=-50.8, euribor3m=1.028, nr_employed=4963.6, y='no', date=datetime.date(2010, 11, 1)),\n",
       " Row(client_id=41187, age=44, job='technician', marital='married', education='professional.course', credit='no', housing='no', loan='no', contact='cellular', day_of_week='fri', duration=442, campaign=1, pdays=999, previous=0, poutcome='nonexistent', emp_var_rate=-1.1, cons_price_idx=94.767, cons_conf_idx=-50.8, euribor3m=1.028, nr_employed=4963.6, y='yes', date=datetime.date(2010, 11, 1)),\n",
       " Row(client_id=41188, age=74, job='retired', marital='married', education='professional.course', credit='no', housing='yes', loan='no', contact='cellular', day_of_week='fri', duration=239, campaign=3, pdays=999, previous=1, poutcome='failure', emp_var_rate=-1.1, cons_price_idx=94.767, cons_conf_idx=-50.8, euribor3m=1.028, nr_employed=4963.6, y='no', date=datetime.date(2010, 11, 1))]"
      ]
     },
     "execution_count": 32,
     "metadata": {},
     "output_type": "execute_result"
    }
   ],
   "source": [
    "df = df.withColumnRenamed('date2', 'date')\n",
    "df.tail(20)"
   ]
  },
  {
   "cell_type": "code",
   "execution_count": 33,
   "metadata": {},
   "outputs": [
    {
     "data": {
      "text/plain": [
       "[('client_id', 'bigint'),\n",
       " ('age', 'bigint'),\n",
       " ('job', 'string'),\n",
       " ('marital', 'string'),\n",
       " ('education', 'string'),\n",
       " ('credit', 'string'),\n",
       " ('housing', 'string'),\n",
       " ('loan', 'string'),\n",
       " ('contact', 'string'),\n",
       " ('day_of_week', 'string'),\n",
       " ('duration', 'bigint'),\n",
       " ('campaign', 'bigint'),\n",
       " ('pdays', 'bigint'),\n",
       " ('previous', 'bigint'),\n",
       " ('poutcome', 'string'),\n",
       " ('emp_var_rate', 'double'),\n",
       " ('cons_price_idx', 'double'),\n",
       " ('cons_conf_idx', 'double'),\n",
       " ('euribor3m', 'double'),\n",
       " ('nr_employed', 'double'),\n",
       " ('y', 'string'),\n",
       " ('date', 'date')]"
      ]
     },
     "execution_count": 33,
     "metadata": {},
     "output_type": "execute_result"
    }
   ],
   "source": [
    "df.dtypes"
   ]
  },
  {
   "cell_type": "code",
   "execution_count": 34,
   "metadata": {},
   "outputs": [],
   "source": [
    "import pandas as pd\n",
    "import pandas_gbq"
   ]
  },
  {
   "cell_type": "code",
   "execution_count": 45,
   "metadata": {},
   "outputs": [],
   "source": [
    "pdf = df.toPandas()"
   ]
  },
  {
   "cell_type": "code",
   "execution_count": 46,
   "metadata": {},
   "outputs": [],
   "source": [
    "project_id = 'datafellowship-381910'\n",
    "dataset_id = 'bankmarketing'\n"
   ]
  },
  {
   "cell_type": "code",
   "execution_count": 47,
   "metadata": {},
   "outputs": [],
   "source": [
    "def load_to_bq(df, table_name):\n",
    "    pandas_gbq.to_gbq(df, f'{dataset_id}.{table_name}', project_id=project_id)"
   ]
  },
  {
   "cell_type": "code",
   "execution_count": 48,
   "metadata": {},
   "outputs": [
    {
     "data": {
      "text/plain": [
       "client_id           int64\n",
       "age                 int64\n",
       "job                object\n",
       "marital            object\n",
       "education          object\n",
       "credit             object\n",
       "housing            object\n",
       "loan               object\n",
       "contact            object\n",
       "day_of_week        object\n",
       "duration            int64\n",
       "campaign            int64\n",
       "pdays               int64\n",
       "previous            int64\n",
       "poutcome           object\n",
       "emp_var_rate      float64\n",
       "cons_price_idx    float64\n",
       "cons_conf_idx     float64\n",
       "euribor3m         float64\n",
       "nr_employed       float64\n",
       "y                  object\n",
       "date               object\n",
       "dtype: object"
      ]
     },
     "execution_count": 48,
     "metadata": {},
     "output_type": "execute_result"
    }
   ],
   "source": [
    "pdf.dtypes"
   ]
  },
  {
   "cell_type": "code",
   "execution_count": 51,
   "metadata": {},
   "outputs": [],
   "source": [
    "import datetime\n",
    "\n",
    "# Assume that 'date_col' is a column in your DataFrame that contains 'datetime.date' objects\n",
    "pdf['date'] = pdf['date'].apply(lambda d: d.strftime('%Y-%m-%d'))\n",
    "\n",
    "# Write the DataFrame to BigQuery\n",
    "load_to_bq(pdf, 'bank marketing cleaned')"
   ]
  }
 ],
 "metadata": {
  "kernelspec": {
   "display_name": "Python 3",
   "language": "python",
   "name": "python3"
  },
  "language_info": {
   "codemirror_mode": {
    "name": "ipython",
    "version": 3
   },
   "file_extension": ".py",
   "mimetype": "text/x-python",
   "name": "python",
   "nbconvert_exporter": "python",
   "pygments_lexer": "ipython3",
   "version": "3.11.2"
  },
  "orig_nbformat": 4,
  "vscode": {
   "interpreter": {
    "hash": "5238573367df39f7286bb46f9ff5f08f63a01a80960060ce41e3c79b190280fa"
   }
  }
 },
 "nbformat": 4,
 "nbformat_minor": 2
}
