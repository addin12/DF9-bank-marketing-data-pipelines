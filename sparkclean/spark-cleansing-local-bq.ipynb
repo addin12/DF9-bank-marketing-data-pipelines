{
 "cells": [
  {
   "cell_type": "code",
   "execution_count": 1,
   "metadata": {},
   "outputs": [],
   "source": [
    "import sys\n",
    "import pyspark\n",
    "import pandas as pd\n",
    "import gcsfs\n",
    "from pyspark.sql import SparkSession\n",
    "from pyspark.sql import functions as F\n",
    "from pyspark.sql.functions import when\n",
    "from pyspark.sql.functions import regexp_replace"
   ]
  },
  {
   "cell_type": "code",
   "execution_count": 2,
   "metadata": {},
   "outputs": [],
   "source": [
    "#Creating the spark session\n",
    "spark = SparkSession.builder \\\n",
    "    .master(\"local[*]\") \\\n",
    "    .appName(\"finalprojclean\") \\\n",
    "    .config(\"spark.sql.inferSchema\", \"true\")\\\n",
    "    .getOrCreate()"
   ]
  },
  {
   "cell_type": "code",
   "execution_count": 3,
   "metadata": {},
   "outputs": [
    {
     "data": {
      "text/html": [
       "\n",
       "            <div>\n",
       "                <p><b>SparkSession - in-memory</b></p>\n",
       "                \n",
       "        <div>\n",
       "            <p><b>SparkContext</b></p>\n",
       "\n",
       "            <p><a href=\"http://host.docker.internal:4041\">Spark UI</a></p>\n",
       "\n",
       "            <dl>\n",
       "              <dt>Version</dt>\n",
       "                <dd><code>v3.3.2</code></dd>\n",
       "              <dt>Master</dt>\n",
       "                <dd><code>local[*]</code></dd>\n",
       "              <dt>AppName</dt>\n",
       "                <dd><code>finalprojclean</code></dd>\n",
       "            </dl>\n",
       "        </div>\n",
       "        \n",
       "            </div>\n",
       "        "
      ],
      "text/plain": [
       "<pyspark.sql.session.SparkSession at 0x2aa3e4c8b10>"
      ]
     },
     "execution_count": 3,
     "metadata": {},
     "output_type": "execute_result"
    }
   ],
   "source": [
    "spark"
   ]
  },
  {
   "cell_type": "code",
   "execution_count": 4,
   "metadata": {},
   "outputs": [
    {
     "name": "stdout",
     "output_type": "stream",
     "text": [
      " Volume in drive C is Windows\n",
      " Volume Serial Number is 208E-AA96\n",
      "\n",
      " Directory of c:\\Workspace\\cleaning\n",
      "\n",
      "04/05/2023  04:31 PM    <DIR>          .\n",
      "04/05/2023  04:31 PM    <DIR>          ..\n",
      "04/03/2023  05:33 PM           487,084 bank-additional-full-masked-null.parquet\n",
      "04/03/2023  10:11 PM         5,384,496 bank-marketing.csv\n",
      "04/03/2023  10:03 PM           480,557 bank-marketing.parquet\n",
      "04/03/2023  10:06 PM             2,186 blbla.ipynb\n",
      "04/04/2023  09:56 PM             2,334 google_credentials.json\n",
      "04/05/2023  12:14 PM             2,326 google_credentials2.json\n",
      "04/05/2023  04:31 PM            56,850 spark-cleansing local.ipynb\n",
      "04/05/2023  02:55 PM            77,144 spark-cleansing.ipynb\n",
      "04/03/2023  11:10 PM             2,225 spark-cleansing.py\n",
      "               9 File(s)      6,495,202 bytes\n",
      "               2 Dir(s)  98,685,542,400 bytes free\n"
     ]
    }
   ],
   "source": [
    "ls"
   ]
  },
  {
   "cell_type": "code",
   "execution_count": 5,
   "metadata": {},
   "outputs": [],
   "source": [
    "df = spark.read.format(\"parquet\").option(\"header\", \"true\").load(\"bank-additional-full-masked-null.parquet\")"
   ]
  },
  {
   "cell_type": "code",
   "execution_count": 6,
   "metadata": {},
   "outputs": [
    {
     "name": "stdout",
     "output_type": "stream",
     "text": [
      "+---------+---+-----------+--------+-------------------+-------+-------+----+---------+-----+----+-----------+--------+--------+-----+--------+-----------+------------+--------------+-------------+---------+-----------+---+\n",
      "|client_id|age|        job| marital|          education|default|housing|loan|  contact|month|year|day_of_week|duration|campaign|pdays|previous|   poutcome|emp.var.rate|cons.price.idx|cons.conf.idx|euribor3m|nr.employed|  y|\n",
      "+---------+---+-----------+--------+-------------------+-------+-------+----+---------+-----+----+-----------+--------+--------+-----+--------+-----------+------------+--------------+-------------+---------+-----------+---+\n",
      "|        1| 56|  housemaid| married|           basic.4y|     no|     no|  no|telephone|  may|2008|        mon|     261|       1|  999|       0|nonexistent|         1.1|        93.994|        -36.4|    4.857|     5191.0| no|\n",
      "|        2| 57|   services| married|        high.school|unknown|     no|  no|telephone|  may|2008|        mon|     149|       1|  999|       0|nonexistent|         1.1|        93.994|        -36.4|    4.857|     5191.0| no|\n",
      "|        3| 37|   services| married|        high.school|     no|    yes|  no|telephone|  may|2008|        mon|     226|       1|  999|       0|nonexistent|         1.1|        93.994|        -36.4|    4.857|     5191.0| no|\n",
      "|        4| 40|     admin.| married|           basic.6y|     no|     no|  no|telephone|  may|2008|        mon|     151|       1|  999|       0|nonexistent|         1.1|        93.994|        -36.4|    4.857|     5191.0| no|\n",
      "|        5| 56|   services| married|        high.school|     no|     no| yes|telephone|  may|2008|        mon|     307|       1|  999|       0|nonexistent|         1.1|        93.994|        -36.4|    4.857|     5191.0| no|\n",
      "|        6| 45|   services| married|           basic.9y|unknown|     no|  no|telephone|  may|2008|        mon|     198|       1|  999|       0|nonexistent|         1.1|        93.994|        -36.4|    4.857|     5191.0| no|\n",
      "|        7| 59|     admin.| married|professional.course|     no|     no|  no|telephone|  may|2008|        mon|     139|       1|  999|       0|nonexistent|         1.1|        93.994|        -36.4|    4.857|     5191.0| no|\n",
      "|        8| 41|blue-collar| married|            unknown|unknown|     no|  no|telephone|  may|2008|        mon|     217|       1|  999|       0|nonexistent|         1.1|        93.994|        -36.4|    4.857|     5191.0| no|\n",
      "|        9| 24| technician|  single|professional.course|     no|    yes|  no|telephone|  may|2008|        mon|     380|       1|  999|       0|nonexistent|         1.1|        93.994|        -36.4|    4.857|     5191.0| no|\n",
      "|       10| 25|   services|  single|        high.school|     no|    yes|  no|telephone|  may|2008|        mon|      50|       1|  999|       0|nonexistent|         1.1|        93.994|        -36.4|    4.857|     5191.0| no|\n",
      "|       11| 41|blue-collar| married|            unknown|unknown|     no|  no|telephone|  may|2008|        mon|      55|       1|  999|       0|nonexistent|         1.1|        93.994|        -36.4|    4.857|     5191.0| no|\n",
      "|       12| 25|   services|  single|        high.school|     no|    yes|  no|telephone|  may|2008|        mon|     222|       1|  999|       0|nonexistent|         1.1|        93.994|        -36.4|    4.857|     5191.0| no|\n",
      "|       13| 29|blue-collar|  single|        high.school|     no|     no| yes|telephone|  may|2008|        mon|     137|       1|  999|       0|nonexistent|         1.1|        93.994|        -36.4|    4.857|     5191.0| no|\n",
      "|       14| 57|  housemaid|divorced|           basic.4y|     no|    yes|  no|telephone|  may|2008|        mon|     293|       1|  999|       0|nonexistent|         1.1|        93.994|        -36.4|    4.857|     5191.0| no|\n",
      "|       15| 35|blue-collar| married|           basic.6y|     no|    yes|  no|telephone|  may|2008|        mon|     146|       1|  999|       0|nonexistent|         1.1|        93.994|        -36.4|    4.857|     5191.0| no|\n",
      "|       16| 54|    retired| married|           basic.9y|unknown|    yes| yes|telephone|  may|2008|        mon|     174|       1|  999|       0|nonexistent|         1.1|        93.994|        -36.4|    4.857|     5191.0| no|\n",
      "|       17| 35|blue-collar| married|           basic.6y|     no|    yes|  no|telephone|  may|2008|        mon|     312|       1|  999|       0|nonexistent|         1.1|        93.994|        -36.4|    4.857|     5191.0| no|\n",
      "|       18| 46|blue-collar| married|           basic.6y|unknown|    yes| yes|telephone|  may|2008|        mon|     440|       1|  999|       0|nonexistent|         1.1|        93.994|        -36.4|    4.857|     5191.0| no|\n",
      "|       19| 50|blue-collar| married|           basic.9y|     no|    yes| yes|telephone|  may|2008|        mon|     353|       1|  999|       0|nonexistent|         1.1|        93.994|        -36.4|    4.857|     5191.0| no|\n",
      "|       20| 39| management|  single|           basic.9y|unknown|     no|  no|telephone|  may|2008|        mon|     195|       1|  999|       0|nonexistent|         1.1|        93.994|        -36.4|    4.857|     5191.0| no|\n",
      "+---------+---+-----------+--------+-------------------+-------+-------+----+---------+-----+----+-----------+--------+--------+-----+--------+-----------+------------+--------------+-------------+---------+-----------+---+\n",
      "only showing top 20 rows\n",
      "\n"
     ]
    }
   ],
   "source": [
    "df.show()"
   ]
  },
  {
   "cell_type": "code",
   "execution_count": 7,
   "metadata": {},
   "outputs": [
    {
     "data": {
      "text/plain": [
       "41188"
      ]
     },
     "execution_count": 7,
     "metadata": {},
     "output_type": "execute_result"
    }
   ],
   "source": [
    "df.count()"
   ]
  },
  {
   "cell_type": "code",
   "execution_count": 8,
   "metadata": {},
   "outputs": [
    {
     "name": "stdout",
     "output_type": "stream",
     "text": [
      "root\n",
      " |-- client_id: long (nullable = true)\n",
      " |-- age: long (nullable = true)\n",
      " |-- job: string (nullable = true)\n",
      " |-- marital: string (nullable = true)\n",
      " |-- education: string (nullable = true)\n",
      " |-- default: string (nullable = true)\n",
      " |-- housing: string (nullable = true)\n",
      " |-- loan: string (nullable = true)\n",
      " |-- contact: string (nullable = true)\n",
      " |-- month: string (nullable = true)\n",
      " |-- year: long (nullable = true)\n",
      " |-- day_of_week: string (nullable = true)\n",
      " |-- duration: long (nullable = true)\n",
      " |-- campaign: long (nullable = true)\n",
      " |-- pdays: long (nullable = true)\n",
      " |-- previous: long (nullable = true)\n",
      " |-- poutcome: string (nullable = true)\n",
      " |-- emp.var.rate: double (nullable = true)\n",
      " |-- cons.price.idx: double (nullable = true)\n",
      " |-- cons.conf.idx: double (nullable = true)\n",
      " |-- euribor3m: double (nullable = true)\n",
      " |-- nr.employed: double (nullable = true)\n",
      " |-- y: string (nullable = true)\n",
      "\n"
     ]
    }
   ],
   "source": [
    "df.printSchema()"
   ]
  },
  {
   "cell_type": "code",
   "execution_count": 9,
   "metadata": {},
   "outputs": [
    {
     "name": "stdout",
     "output_type": "stream",
     "text": [
      "+-------------------+\n",
      "|          education|\n",
      "+-------------------+\n",
      "|           basic.4y|\n",
      "|        high.school|\n",
      "|        high.school|\n",
      "|           basic.6y|\n",
      "|        high.school|\n",
      "|           basic.9y|\n",
      "|professional.course|\n",
      "|            unknown|\n",
      "|professional.course|\n",
      "|        high.school|\n",
      "|            unknown|\n",
      "|        high.school|\n",
      "|        high.school|\n",
      "|           basic.4y|\n",
      "|           basic.6y|\n",
      "|           basic.9y|\n",
      "|           basic.6y|\n",
      "|           basic.6y|\n",
      "|           basic.9y|\n",
      "|           basic.9y|\n",
      "+-------------------+\n",
      "only showing top 20 rows\n",
      "\n"
     ]
    }
   ],
   "source": [
    "df.select('education').show()"
   ]
  },
  {
   "cell_type": "code",
   "execution_count": 10,
   "metadata": {},
   "outputs": [],
   "source": [
    "# 1. standardize the education value\n",
    "df = df.withColumn(\"education\",\n",
    "                                        when(df.education.endswith('4y'), regexp_replace(df.education, 'basic.4y', 'basic')) \\\n",
    "                                        .when(df.education.endswith('6y'), regexp_replace(df.education, 'basic.6y', 'basic')) \\\n",
    "                                         .when(df.education.endswith('9y'), regexp_replace(df.education, 'basic.9y', 'basic')) \\\n",
    "                                         .otherwise(df.education)\n",
    "                                        )"
   ]
  },
  {
   "cell_type": "code",
   "execution_count": 11,
   "metadata": {},
   "outputs": [
    {
     "name": "stdout",
     "output_type": "stream",
     "text": [
      "+---------+---+-----------+--------+-------------------+-------+-------+----+---------+-----+----+-----------+--------+--------+-----+--------+-----------+------------+--------------+-------------+---------+-----------+---+\n",
      "|client_id|age|        job| marital|          education|default|housing|loan|  contact|month|year|day_of_week|duration|campaign|pdays|previous|   poutcome|emp.var.rate|cons.price.idx|cons.conf.idx|euribor3m|nr.employed|  y|\n",
      "+---------+---+-----------+--------+-------------------+-------+-------+----+---------+-----+----+-----------+--------+--------+-----+--------+-----------+------------+--------------+-------------+---------+-----------+---+\n",
      "|        1| 56|  housemaid| married|              basic|     no|     no|  no|telephone|  may|2008|        mon|     261|       1|  999|       0|nonexistent|         1.1|        93.994|        -36.4|    4.857|     5191.0| no|\n",
      "|        2| 57|   services| married|        high.school|unknown|     no|  no|telephone|  may|2008|        mon|     149|       1|  999|       0|nonexistent|         1.1|        93.994|        -36.4|    4.857|     5191.0| no|\n",
      "|        3| 37|   services| married|        high.school|     no|    yes|  no|telephone|  may|2008|        mon|     226|       1|  999|       0|nonexistent|         1.1|        93.994|        -36.4|    4.857|     5191.0| no|\n",
      "|        4| 40|     admin.| married|              basic|     no|     no|  no|telephone|  may|2008|        mon|     151|       1|  999|       0|nonexistent|         1.1|        93.994|        -36.4|    4.857|     5191.0| no|\n",
      "|        5| 56|   services| married|        high.school|     no|     no| yes|telephone|  may|2008|        mon|     307|       1|  999|       0|nonexistent|         1.1|        93.994|        -36.4|    4.857|     5191.0| no|\n",
      "|        6| 45|   services| married|              basic|unknown|     no|  no|telephone|  may|2008|        mon|     198|       1|  999|       0|nonexistent|         1.1|        93.994|        -36.4|    4.857|     5191.0| no|\n",
      "|        7| 59|     admin.| married|professional.course|     no|     no|  no|telephone|  may|2008|        mon|     139|       1|  999|       0|nonexistent|         1.1|        93.994|        -36.4|    4.857|     5191.0| no|\n",
      "|        8| 41|blue-collar| married|            unknown|unknown|     no|  no|telephone|  may|2008|        mon|     217|       1|  999|       0|nonexistent|         1.1|        93.994|        -36.4|    4.857|     5191.0| no|\n",
      "|        9| 24| technician|  single|professional.course|     no|    yes|  no|telephone|  may|2008|        mon|     380|       1|  999|       0|nonexistent|         1.1|        93.994|        -36.4|    4.857|     5191.0| no|\n",
      "|       10| 25|   services|  single|        high.school|     no|    yes|  no|telephone|  may|2008|        mon|      50|       1|  999|       0|nonexistent|         1.1|        93.994|        -36.4|    4.857|     5191.0| no|\n",
      "|       11| 41|blue-collar| married|            unknown|unknown|     no|  no|telephone|  may|2008|        mon|      55|       1|  999|       0|nonexistent|         1.1|        93.994|        -36.4|    4.857|     5191.0| no|\n",
      "|       12| 25|   services|  single|        high.school|     no|    yes|  no|telephone|  may|2008|        mon|     222|       1|  999|       0|nonexistent|         1.1|        93.994|        -36.4|    4.857|     5191.0| no|\n",
      "|       13| 29|blue-collar|  single|        high.school|     no|     no| yes|telephone|  may|2008|        mon|     137|       1|  999|       0|nonexistent|         1.1|        93.994|        -36.4|    4.857|     5191.0| no|\n",
      "|       14| 57|  housemaid|divorced|              basic|     no|    yes|  no|telephone|  may|2008|        mon|     293|       1|  999|       0|nonexistent|         1.1|        93.994|        -36.4|    4.857|     5191.0| no|\n",
      "|       15| 35|blue-collar| married|              basic|     no|    yes|  no|telephone|  may|2008|        mon|     146|       1|  999|       0|nonexistent|         1.1|        93.994|        -36.4|    4.857|     5191.0| no|\n",
      "|       16| 54|    retired| married|              basic|unknown|    yes| yes|telephone|  may|2008|        mon|     174|       1|  999|       0|nonexistent|         1.1|        93.994|        -36.4|    4.857|     5191.0| no|\n",
      "|       17| 35|blue-collar| married|              basic|     no|    yes|  no|telephone|  may|2008|        mon|     312|       1|  999|       0|nonexistent|         1.1|        93.994|        -36.4|    4.857|     5191.0| no|\n",
      "|       18| 46|blue-collar| married|              basic|unknown|    yes| yes|telephone|  may|2008|        mon|     440|       1|  999|       0|nonexistent|         1.1|        93.994|        -36.4|    4.857|     5191.0| no|\n",
      "|       19| 50|blue-collar| married|              basic|     no|    yes| yes|telephone|  may|2008|        mon|     353|       1|  999|       0|nonexistent|         1.1|        93.994|        -36.4|    4.857|     5191.0| no|\n",
      "|       20| 39| management|  single|              basic|unknown|     no|  no|telephone|  may|2008|        mon|     195|       1|  999|       0|nonexistent|         1.1|        93.994|        -36.4|    4.857|     5191.0| no|\n",
      "+---------+---+-----------+--------+-------------------+-------+-------+----+---------+-----+----+-----------+--------+--------+-----+--------+-----------+------------+--------------+-------------+---------+-----------+---+\n",
      "only showing top 20 rows\n",
      "\n"
     ]
    }
   ],
   "source": [
    "df.show()"
   ]
  },
  {
   "cell_type": "code",
   "execution_count": 12,
   "metadata": {},
   "outputs": [
    {
     "name": "stdout",
     "output_type": "stream",
     "text": [
      "+---------+---+----+--------+-------------------+-------+-------+----+---------+-----+----+-----------+--------+--------+-----+--------+-----------+------------+--------------+-------------+---------+-----------+---+\n",
      "|client_id|age| job| marital|          education|default|housing|loan|  contact|month|year|day_of_week|duration|campaign|pdays|previous|   poutcome|emp.var.rate|cons.price.idx|cons.conf.idx|euribor3m|nr.employed|  y|\n",
      "+---------+---+----+--------+-------------------+-------+-------+----+---------+-----+----+-----------+--------+--------+-----+--------+-----------+------------+--------------+-------------+---------+-----------+---+\n",
      "|      968| 31|null| married|              basic|     no|    yes|  no|telephone|  may|2008|        wed|     650|       1|  999|       0|nonexistent|         1.1|        93.994|        -36.4|    4.856|     5191.0| no|\n",
      "|     3000| 42|null| married|              basic|     no|    yes| yes|telephone|  may|2008|        wed|      97|       5|  999|       0|nonexistent|         1.1|        93.994|        -36.4|    4.859|     5191.0| no|\n",
      "|     3831| 39|null|divorced|              basic|unknown|     no|  no|telephone|  may|2008|        fri|     827|       2|  999|       0|nonexistent|         1.1|        93.994|        -36.4|    4.859|     5191.0| no|\n",
      "|     4092| 43|null|divorced|        high.school|     no|    yes|  no|telephone|  may|2008|        mon|     191|       4|  999|       0|nonexistent|         1.1|        93.994|        -36.4|    4.858|     5191.0| no|\n",
      "|     4479| 39|null| married|professional.course|     no|    yes|  no|telephone|  may|2008|        tue|     185|       2|  999|       0|nonexistent|         1.1|        93.994|        -36.4|    4.856|     5191.0| no|\n",
      "|     6954| 37|null| married|professional.course|     no|     no| yes|telephone|  may|2008|        thu|      44|       1|  999|       0|nonexistent|         1.1|        93.994|        -36.4|     4.86|     5191.0| no|\n",
      "|     7590| 49|null|divorced|        high.school|     no|     no|  no|telephone|  may|2008|        fri|     152|       1|  999|       0|nonexistent|         1.1|        93.994|        -36.4|    4.864|     5191.0| no|\n",
      "|     9569| 46|null|divorced|              basic|     no|    yes|  no|telephone|  jun|2008|        mon|     217|       1|  999|       0|nonexistent|         1.4|        94.465|        -41.8|    4.961|     5228.1| no|\n",
      "|    10502| 37|null|  single|  university.degree|     no|    yes| yes|telephone|  jun|2008|        tue|      43|       1|  999|       0|nonexistent|         1.4|        94.465|        -41.8|    4.961|     5228.1| no|\n",
      "|    10649| 57|null| married|              basic|unknown|     no|  no|telephone|  jun|2008|        tue|     986|       1|  999|       0|nonexistent|         1.4|        94.465|        -41.8|    4.961|     5228.1| no|\n",
      "|    13050| 38|null| married|              basic|unknown|     no|  no| cellular|  jul|2008|        tue|     283|       2|  999|       0|nonexistent|         1.4|        93.918|        -42.7|    4.962|     5228.1| no|\n",
      "|    13241| 45|null|divorced|              basic|     no|    yes|null| cellular|  jul|2008|        wed|     294|       1|  999|       0|nonexistent|         1.4|        93.918|        -42.7|    4.962|     5228.1| no|\n",
      "|    13351| 26|null|  single|  university.degree|     no|    yes|  no| cellular|  jul|2008|        wed|      70|       1|  999|       0|nonexistent|         1.4|        93.918|        -42.7|    4.962|     5228.1| no|\n",
      "|    17974| 30|null| married|professional.course|     no|     no|  no| cellular|  jul|2008|        tue|     333|      19|  999|       0|nonexistent|         1.4|        93.918|        -42.7|    4.961|     5228.1| no|\n",
      "|    18456| 32|null| married|  university.degree|     no|     no|  no| cellular|  jul|2008|        thu|     100|       1|  999|       0|nonexistent|         1.4|        93.918|        -42.7|    4.968|     5228.1| no|\n",
      "|    19254| 49|null| married|professional.course|unknown|    yes|  no| cellular|  aug|2008|        wed|     397|       2|  999|       0|nonexistent|         1.4|        93.444|        -36.1|    4.967|     5228.1|yes|\n",
      "|    19840| 29|null|  single|        high.school|     no|     no|  no| cellular|  aug|2008|        fri|      31|       1|  999|       0|nonexistent|         1.4|        93.444|        -36.1|    4.966|     5228.1| no|\n",
      "|    20789| 34|null| married|professional.course|     no|     no|  no| cellular|  aug|2008|        wed|    1148|       2|  999|       0|nonexistent|         1.4|        93.444|        -36.1|    4.965|     5228.1|yes|\n",
      "|    23157| 40|null| married|  university.degree|     no|     no|  no| cellular|  aug|2008|        tue|      17|      11|  999|       0|nonexistent|         1.4|        93.444|        -36.1|    4.965|     5228.1| no|\n",
      "|    23330| 54|null| married|        high.school|     no|    yes|  no| cellular|  aug|2008|        wed|      82|       2|  999|       0|nonexistent|         1.4|        93.444|        -36.1|    4.964|     5228.1| no|\n",
      "+---------+---+----+--------+-------------------+-------+-------+----+---------+-----+----+-----------+--------+--------+-----+--------+-----------+------------+--------------+-------------+---------+-----------+---+\n",
      "only showing top 20 rows\n",
      "\n"
     ]
    }
   ],
   "source": [
    "from pyspark.sql.functions import col, sum\n",
    "\n",
    "df.filter(col(\"job\").isNull()).show()"
   ]
  },
  {
   "cell_type": "code",
   "execution_count": 13,
   "metadata": {},
   "outputs": [],
   "source": [
    "# 2. some column name need to be standardized because spark can't read it\n",
    "df = df.withColumnRenamed('emp.var.rate', 'emp_var_rate') \\\n",
    "    .withColumnRenamed('cons.price.idx', 'cons_price_idx') \\\n",
    "    .withColumnRenamed('cons.conf.idx', 'cons_conf_idx') \\\n",
    "    .withColumnRenamed('nr.employed', 'nr_employed') \\\n",
    "    .withColumnRenamed('default', 'credit')"
   ]
  },
  {
   "cell_type": "code",
   "execution_count": 14,
   "metadata": {},
   "outputs": [
    {
     "name": "stdout",
     "output_type": "stream",
     "text": [
      "+---------+---+---+-------+---------+------+-------+----+-------+-----+----+-----------+--------+--------+-----+--------+--------+------------+--------------+-------------+---------+-----------+---+\n",
      "|client_id|age|job|marital|education|credit|housing|loan|contact|month|year|day_of_week|duration|campaign|pdays|previous|poutcome|emp_var_rate|cons_price_idx|cons_conf_idx|euribor3m|nr_employed|  y|\n",
      "+---------+---+---+-------+---------+------+-------+----+-------+-----+----+-----------+--------+--------+-----+--------+--------+------------+--------------+-------------+---------+-----------+---+\n",
      "|        0|  0| 38|     31|       35|    24|     38|  38|     42|   38|   0|         57|       0|       0|    0|       0|      44|           0|             0|            0|        0|          0| 38|\n",
      "+---------+---+---+-------+---------+------+-------+----+-------+-----+----+-----------+--------+--------+-----+--------+--------+------------+--------------+-------------+---------+-----------+---+\n",
      "\n"
     ]
    }
   ],
   "source": [
    "null_counts = df.select([sum(col(c).isNull().cast(\"int\")).alias(c) for c in df.columns])\n",
    "\n",
    "# show null counts\n",
    "null_counts.show()"
   ]
  },
  {
   "cell_type": "code",
   "execution_count": 15,
   "metadata": {},
   "outputs": [
    {
     "data": {
      "text/plain": [
       "40766"
      ]
     },
     "execution_count": 15,
     "metadata": {},
     "output_type": "execute_result"
    }
   ],
   "source": [
    "# 3. dropping null value\n",
    "df = df.na.drop(\"any\")\n",
    "df.count()"
   ]
  },
  {
   "cell_type": "code",
   "execution_count": 16,
   "metadata": {},
   "outputs": [
    {
     "name": "stdout",
     "output_type": "stream",
     "text": [
      "+---------+---+---+-------+---------+------+-------+----+-------+-----+----+-----------+--------+--------+-----+--------+--------+------------+--------------+-------------+---------+-----------+---+\n",
      "|client_id|age|job|marital|education|credit|housing|loan|contact|month|year|day_of_week|duration|campaign|pdays|previous|poutcome|emp_var_rate|cons_price_idx|cons_conf_idx|euribor3m|nr_employed|  y|\n",
      "+---------+---+---+-------+---------+------+-------+----+-------+-----+----+-----------+--------+--------+-----+--------+--------+------------+--------------+-------------+---------+-----------+---+\n",
      "|        0|  0|  0|      0|        0|     0|      0|   0|      0|    0|   0|          0|       0|       0|    0|       0|       0|           0|             0|            0|        0|          0|  0|\n",
      "+---------+---+---+-------+---------+------+-------+----+-------+-----+----+-----------+--------+--------+-----+--------+--------+------------+--------------+-------------+---------+-----------+---+\n",
      "\n"
     ]
    }
   ],
   "source": [
    "null_counts = df.select([sum(col(c).isNull().cast(\"int\")).alias(c) for c in df.columns])\n",
    "\n",
    "# show null counts\n",
    "null_counts.show()"
   ]
  },
  {
   "cell_type": "code",
   "execution_count": 17,
   "metadata": {},
   "outputs": [
    {
     "name": "stdout",
     "output_type": "stream",
     "text": [
      "+----+\n",
      "|year|\n",
      "+----+\n",
      "|2008|\n",
      "|2008|\n",
      "|2008|\n",
      "|2008|\n",
      "|2008|\n",
      "|2008|\n",
      "|2008|\n",
      "|2008|\n",
      "|2008|\n",
      "|2008|\n",
      "|2008|\n",
      "|2008|\n",
      "|2008|\n",
      "|2008|\n",
      "|2008|\n",
      "|2008|\n",
      "|2008|\n",
      "|2008|\n",
      "|2008|\n",
      "|2008|\n",
      "+----+\n",
      "only showing top 20 rows\n",
      "\n"
     ]
    }
   ],
   "source": [
    "df.select('year').show()"
   ]
  },
  {
   "cell_type": "code",
   "execution_count": 18,
   "metadata": {},
   "outputs": [
    {
     "data": {
      "text/plain": [
       "[('year', 'bigint')]"
      ]
     },
     "execution_count": 18,
     "metadata": {},
     "output_type": "execute_result"
    }
   ],
   "source": [
    "df.select('year').dtypes"
   ]
  },
  {
   "cell_type": "code",
   "execution_count": 19,
   "metadata": {},
   "outputs": [
    {
     "name": "stdout",
     "output_type": "stream",
     "text": [
      "+---------+---+-----------+--------+-------------------+-------+-------+----+---------+-----+----+-----------+--------+--------+-----+--------+-----------+------------+--------------+-------------+---------+-----------+---+\n",
      "|client_id|age|        job| marital|          education| credit|housing|loan|  contact|month|year|day_of_week|duration|campaign|pdays|previous|   poutcome|emp_var_rate|cons_price_idx|cons_conf_idx|euribor3m|nr_employed|  y|\n",
      "+---------+---+-----------+--------+-------------------+-------+-------+----+---------+-----+----+-----------+--------+--------+-----+--------+-----------+------------+--------------+-------------+---------+-----------+---+\n",
      "|        1| 56|  housemaid| married|              basic|     no|     no|  no|telephone|  may|2008|        mon|     261|       1|  999|       0|nonexistent|         1.1|        93.994|        -36.4|    4.857|     5191.0| no|\n",
      "|        2| 57|   services| married|        high.school|unknown|     no|  no|telephone|  may|2008|        mon|     149|       1|  999|       0|nonexistent|         1.1|        93.994|        -36.4|    4.857|     5191.0| no|\n",
      "|        3| 37|   services| married|        high.school|     no|    yes|  no|telephone|  may|2008|        mon|     226|       1|  999|       0|nonexistent|         1.1|        93.994|        -36.4|    4.857|     5191.0| no|\n",
      "|        4| 40|     admin.| married|              basic|     no|     no|  no|telephone|  may|2008|        mon|     151|       1|  999|       0|nonexistent|         1.1|        93.994|        -36.4|    4.857|     5191.0| no|\n",
      "|        5| 56|   services| married|        high.school|     no|     no| yes|telephone|  may|2008|        mon|     307|       1|  999|       0|nonexistent|         1.1|        93.994|        -36.4|    4.857|     5191.0| no|\n",
      "|        6| 45|   services| married|              basic|unknown|     no|  no|telephone|  may|2008|        mon|     198|       1|  999|       0|nonexistent|         1.1|        93.994|        -36.4|    4.857|     5191.0| no|\n",
      "|        7| 59|     admin.| married|professional.course|     no|     no|  no|telephone|  may|2008|        mon|     139|       1|  999|       0|nonexistent|         1.1|        93.994|        -36.4|    4.857|     5191.0| no|\n",
      "|        8| 41|blue-collar| married|            unknown|unknown|     no|  no|telephone|  may|2008|        mon|     217|       1|  999|       0|nonexistent|         1.1|        93.994|        -36.4|    4.857|     5191.0| no|\n",
      "|        9| 24| technician|  single|professional.course|     no|    yes|  no|telephone|  may|2008|        mon|     380|       1|  999|       0|nonexistent|         1.1|        93.994|        -36.4|    4.857|     5191.0| no|\n",
      "|       10| 25|   services|  single|        high.school|     no|    yes|  no|telephone|  may|2008|        mon|      50|       1|  999|       0|nonexistent|         1.1|        93.994|        -36.4|    4.857|     5191.0| no|\n",
      "|       11| 41|blue-collar| married|            unknown|unknown|     no|  no|telephone|  may|2008|        mon|      55|       1|  999|       0|nonexistent|         1.1|        93.994|        -36.4|    4.857|     5191.0| no|\n",
      "|       12| 25|   services|  single|        high.school|     no|    yes|  no|telephone|  may|2008|        mon|     222|       1|  999|       0|nonexistent|         1.1|        93.994|        -36.4|    4.857|     5191.0| no|\n",
      "|       13| 29|blue-collar|  single|        high.school|     no|     no| yes|telephone|  may|2008|        mon|     137|       1|  999|       0|nonexistent|         1.1|        93.994|        -36.4|    4.857|     5191.0| no|\n",
      "|       14| 57|  housemaid|divorced|              basic|     no|    yes|  no|telephone|  may|2008|        mon|     293|       1|  999|       0|nonexistent|         1.1|        93.994|        -36.4|    4.857|     5191.0| no|\n",
      "|       15| 35|blue-collar| married|              basic|     no|    yes|  no|telephone|  may|2008|        mon|     146|       1|  999|       0|nonexistent|         1.1|        93.994|        -36.4|    4.857|     5191.0| no|\n",
      "|       16| 54|    retired| married|              basic|unknown|    yes| yes|telephone|  may|2008|        mon|     174|       1|  999|       0|nonexistent|         1.1|        93.994|        -36.4|    4.857|     5191.0| no|\n",
      "|       17| 35|blue-collar| married|              basic|     no|    yes|  no|telephone|  may|2008|        mon|     312|       1|  999|       0|nonexistent|         1.1|        93.994|        -36.4|    4.857|     5191.0| no|\n",
      "|       18| 46|blue-collar| married|              basic|unknown|    yes| yes|telephone|  may|2008|        mon|     440|       1|  999|       0|nonexistent|         1.1|        93.994|        -36.4|    4.857|     5191.0| no|\n",
      "|       19| 50|blue-collar| married|              basic|     no|    yes| yes|telephone|  may|2008|        mon|     353|       1|  999|       0|nonexistent|         1.1|        93.994|        -36.4|    4.857|     5191.0| no|\n",
      "|       20| 39| management|  single|              basic|unknown|     no|  no|telephone|  may|2008|        mon|     195|       1|  999|       0|nonexistent|         1.1|        93.994|        -36.4|    4.857|     5191.0| no|\n",
      "+---------+---+-----------+--------+-------------------+-------+-------+----+---------+-----+----+-----------+--------+--------+-----+--------+-----------+------------+--------------+-------------+---------+-----------+---+\n",
      "only showing top 20 rows\n",
      "\n"
     ]
    }
   ],
   "source": [
    "df.show()"
   ]
  },
  {
   "cell_type": "code",
   "execution_count": 20,
   "metadata": {},
   "outputs": [
    {
     "data": {
      "text/plain": [
       "[Row(client_id=41169, age=38, job='entrepreneur', marital='married', education='university.degree', credit='no', housing='no', loan='no', contact='cellular', month='nov', year=2010, day_of_week='wed', duration=144, campaign=2, pdays=999, previous=0, poutcome='nonexistent', emp_var_rate=-1.1, cons_price_idx=94.767, cons_conf_idx=-50.8, euribor3m=1.03, nr_employed=4963.6, y='no', date='11'),\n",
       " Row(client_id=41170, age=62, job='services', marital='married', education='high.school', credit='no', housing='yes', loan='no', contact='cellular', month='nov', year=2010, day_of_week='wed', duration=154, campaign=5, pdays=999, previous=0, poutcome='nonexistent', emp_var_rate=-1.1, cons_price_idx=94.767, cons_conf_idx=-50.8, euribor3m=1.03, nr_employed=4963.6, y='no', date='11'),\n",
       " Row(client_id=41171, age=40, job='management', marital='divorced', education='university.degree', credit='no', housing='yes', loan='no', contact='cellular', month='nov', year=2010, day_of_week='wed', duration=293, campaign=2, pdays=999, previous=4, poutcome='failure', emp_var_rate=-1.1, cons_price_idx=94.767, cons_conf_idx=-50.8, euribor3m=1.03, nr_employed=4963.6, y='no', date='11'),\n",
       " Row(client_id=41172, age=33, job='student', marital='married', education='professional.course', credit='no', housing='yes', loan='no', contact='telephone', month='nov', year=2010, day_of_week='thu', duration=112, campaign=1, pdays=999, previous=0, poutcome='nonexistent', emp_var_rate=-1.1, cons_price_idx=94.767, cons_conf_idx=-50.8, euribor3m=1.031, nr_employed=4963.6, y='yes', date='11'),\n",
       " Row(client_id=41173, age=31, job='admin.', marital='single', education='university.degree', credit='no', housing='yes', loan='no', contact='cellular', month='nov', year=2010, day_of_week='thu', duration=353, campaign=1, pdays=999, previous=0, poutcome='nonexistent', emp_var_rate=-1.1, cons_price_idx=94.767, cons_conf_idx=-50.8, euribor3m=1.031, nr_employed=4963.6, y='yes', date='11'),\n",
       " Row(client_id=41174, age=62, job='retired', marital='married', education='university.degree', credit='no', housing='yes', loan='no', contact='cellular', month='nov', year=2010, day_of_week='thu', duration=329, campaign=1, pdays=999, previous=2, poutcome='failure', emp_var_rate=-1.1, cons_price_idx=94.767, cons_conf_idx=-50.8, euribor3m=1.031, nr_employed=4963.6, y='yes', date='11'),\n",
       " Row(client_id=41175, age=62, job='retired', marital='married', education='university.degree', credit='no', housing='yes', loan='no', contact='cellular', month='nov', year=2010, day_of_week='thu', duration=208, campaign=1, pdays=1, previous=6, poutcome='success', emp_var_rate=-1.1, cons_price_idx=94.767, cons_conf_idx=-50.8, euribor3m=1.031, nr_employed=4963.6, y='yes', date='11'),\n",
       " Row(client_id=41176, age=34, job='student', marital='single', education='unknown', credit='no', housing='yes', loan='no', contact='cellular', month='nov', year=2010, day_of_week='thu', duration=180, campaign=1, pdays=999, previous=2, poutcome='failure', emp_var_rate=-1.1, cons_price_idx=94.767, cons_conf_idx=-50.8, euribor3m=1.031, nr_employed=4963.6, y='no', date='11'),\n",
       " Row(client_id=41177, age=38, job='housemaid', marital='divorced', education='high.school', credit='no', housing='yes', loan='yes', contact='cellular', month='nov', year=2010, day_of_week='thu', duration=360, campaign=1, pdays=999, previous=0, poutcome='nonexistent', emp_var_rate=-1.1, cons_price_idx=94.767, cons_conf_idx=-50.8, euribor3m=1.031, nr_employed=4963.6, y='no', date='11'),\n",
       " Row(client_id=41178, age=57, job='retired', marital='married', education='professional.course', credit='no', housing='yes', loan='no', contact='cellular', month='nov', year=2010, day_of_week='thu', duration=124, campaign=6, pdays=999, previous=0, poutcome='nonexistent', emp_var_rate=-1.1, cons_price_idx=94.767, cons_conf_idx=-50.8, euribor3m=1.031, nr_employed=4963.6, y='no', date='11'),\n",
       " Row(client_id=41179, age=62, job='retired', marital='married', education='university.degree', credit='no', housing='no', loan='no', contact='cellular', month='nov', year=2010, day_of_week='thu', duration=483, campaign=2, pdays=6, previous=3, poutcome='success', emp_var_rate=-1.1, cons_price_idx=94.767, cons_conf_idx=-50.8, euribor3m=1.031, nr_employed=4963.6, y='yes', date='11'),\n",
       " Row(client_id=41180, age=64, job='retired', marital='divorced', education='professional.course', credit='no', housing='yes', loan='no', contact='cellular', month='nov', year=2010, day_of_week='fri', duration=151, campaign=3, pdays=999, previous=0, poutcome='nonexistent', emp_var_rate=-1.1, cons_price_idx=94.767, cons_conf_idx=-50.8, euribor3m=1.028, nr_employed=4963.6, y='no', date='11'),\n",
       " Row(client_id=41181, age=36, job='admin.', marital='married', education='university.degree', credit='no', housing='no', loan='no', contact='cellular', month='nov', year=2010, day_of_week='fri', duration=254, campaign=2, pdays=999, previous=0, poutcome='nonexistent', emp_var_rate=-1.1, cons_price_idx=94.767, cons_conf_idx=-50.8, euribor3m=1.028, nr_employed=4963.6, y='no', date='11'),\n",
       " Row(client_id=41182, age=37, job='admin.', marital='married', education='university.degree', credit='no', housing='yes', loan='no', contact='cellular', month='nov', year=2010, day_of_week='fri', duration=281, campaign=1, pdays=999, previous=0, poutcome='nonexistent', emp_var_rate=-1.1, cons_price_idx=94.767, cons_conf_idx=-50.8, euribor3m=1.028, nr_employed=4963.6, y='yes', date='11'),\n",
       " Row(client_id=41183, age=29, job='unemployed', marital='single', education='basic', credit='no', housing='yes', loan='no', contact='cellular', month='nov', year=2010, day_of_week='fri', duration=112, campaign=1, pdays=9, previous=1, poutcome='success', emp_var_rate=-1.1, cons_price_idx=94.767, cons_conf_idx=-50.8, euribor3m=1.028, nr_employed=4963.6, y='no', date='11'),\n",
       " Row(client_id=41184, age=73, job='retired', marital='married', education='professional.course', credit='no', housing='yes', loan='no', contact='cellular', month='nov', year=2010, day_of_week='fri', duration=334, campaign=1, pdays=999, previous=0, poutcome='nonexistent', emp_var_rate=-1.1, cons_price_idx=94.767, cons_conf_idx=-50.8, euribor3m=1.028, nr_employed=4963.6, y='yes', date='11'),\n",
       " Row(client_id=41185, age=46, job='blue-collar', marital='married', education='professional.course', credit='no', housing='no', loan='no', contact='cellular', month='nov', year=2010, day_of_week='fri', duration=383, campaign=1, pdays=999, previous=0, poutcome='nonexistent', emp_var_rate=-1.1, cons_price_idx=94.767, cons_conf_idx=-50.8, euribor3m=1.028, nr_employed=4963.6, y='no', date='11'),\n",
       " Row(client_id=41186, age=56, job='retired', marital='married', education='university.degree', credit='no', housing='yes', loan='no', contact='cellular', month='nov', year=2010, day_of_week='fri', duration=189, campaign=2, pdays=999, previous=0, poutcome='nonexistent', emp_var_rate=-1.1, cons_price_idx=94.767, cons_conf_idx=-50.8, euribor3m=1.028, nr_employed=4963.6, y='no', date='11'),\n",
       " Row(client_id=41187, age=44, job='technician', marital='married', education='professional.course', credit='no', housing='no', loan='no', contact='cellular', month='nov', year=2010, day_of_week='fri', duration=442, campaign=1, pdays=999, previous=0, poutcome='nonexistent', emp_var_rate=-1.1, cons_price_idx=94.767, cons_conf_idx=-50.8, euribor3m=1.028, nr_employed=4963.6, y='yes', date='11'),\n",
       " Row(client_id=41188, age=74, job='retired', marital='married', education='professional.course', credit='no', housing='yes', loan='no', contact='cellular', month='nov', year=2010, day_of_week='fri', duration=239, campaign=3, pdays=999, previous=1, poutcome='failure', emp_var_rate=-1.1, cons_price_idx=94.767, cons_conf_idx=-50.8, euribor3m=1.028, nr_employed=4963.6, y='no', date='11')]"
      ]
     },
     "execution_count": 20,
     "metadata": {},
     "output_type": "execute_result"
    }
   ],
   "source": [
    "from pyspark.sql.functions import to_date, date_format\n",
    "\n",
    "# 4. change the month data type into date\n",
    "df = df.withColumn(\"date\", to_date(\"month\", \"MMM\").alias(\"date\")) \\\n",
    "       .withColumn(\"date\", date_format(\"date\", \"MM\").alias(\"date\"))\n",
    "\n",
    "df.tail(20)"
   ]
  },
  {
   "cell_type": "code",
   "execution_count": 21,
   "metadata": {},
   "outputs": [],
   "source": [
    "from pyspark.sql.functions import concat, lit\n",
    "\n",
    "# 5. combine the month and year value in month column\n",
    "df = df.withColumn(\"date2\", concat(df[\"year\"], lit(\"-\"), df[\"date\"])) \\\n",
    "       .withColumn(\"date2\", date_format(\"date2\", \"yyyyMM\")) \\\n",
    "       .withColumn(\"date2\", to_date(\"date2\", \"yyyyMM\")) \\\n",
    "       .drop(\"date\", \"month\", \"year\")\n",
    "\n",
    "       "
   ]
  },
  {
   "cell_type": "code",
   "execution_count": 22,
   "metadata": {},
   "outputs": [
    {
     "data": {
      "text/plain": [
       "[Row(client_id=41169, age=38, job='entrepreneur', marital='married', education='university.degree', credit='no', housing='no', loan='no', contact='cellular', day_of_week='wed', duration=144, campaign=2, pdays=999, previous=0, poutcome='nonexistent', emp_var_rate=-1.1, cons_price_idx=94.767, cons_conf_idx=-50.8, euribor3m=1.03, nr_employed=4963.6, y='no', date=datetime.date(2010, 11, 1)),\n",
       " Row(client_id=41170, age=62, job='services', marital='married', education='high.school', credit='no', housing='yes', loan='no', contact='cellular', day_of_week='wed', duration=154, campaign=5, pdays=999, previous=0, poutcome='nonexistent', emp_var_rate=-1.1, cons_price_idx=94.767, cons_conf_idx=-50.8, euribor3m=1.03, nr_employed=4963.6, y='no', date=datetime.date(2010, 11, 1)),\n",
       " Row(client_id=41171, age=40, job='management', marital='divorced', education='university.degree', credit='no', housing='yes', loan='no', contact='cellular', day_of_week='wed', duration=293, campaign=2, pdays=999, previous=4, poutcome='failure', emp_var_rate=-1.1, cons_price_idx=94.767, cons_conf_idx=-50.8, euribor3m=1.03, nr_employed=4963.6, y='no', date=datetime.date(2010, 11, 1)),\n",
       " Row(client_id=41172, age=33, job='student', marital='married', education='professional.course', credit='no', housing='yes', loan='no', contact='telephone', day_of_week='thu', duration=112, campaign=1, pdays=999, previous=0, poutcome='nonexistent', emp_var_rate=-1.1, cons_price_idx=94.767, cons_conf_idx=-50.8, euribor3m=1.031, nr_employed=4963.6, y='yes', date=datetime.date(2010, 11, 1)),\n",
       " Row(client_id=41173, age=31, job='admin.', marital='single', education='university.degree', credit='no', housing='yes', loan='no', contact='cellular', day_of_week='thu', duration=353, campaign=1, pdays=999, previous=0, poutcome='nonexistent', emp_var_rate=-1.1, cons_price_idx=94.767, cons_conf_idx=-50.8, euribor3m=1.031, nr_employed=4963.6, y='yes', date=datetime.date(2010, 11, 1)),\n",
       " Row(client_id=41174, age=62, job='retired', marital='married', education='university.degree', credit='no', housing='yes', loan='no', contact='cellular', day_of_week='thu', duration=329, campaign=1, pdays=999, previous=2, poutcome='failure', emp_var_rate=-1.1, cons_price_idx=94.767, cons_conf_idx=-50.8, euribor3m=1.031, nr_employed=4963.6, y='yes', date=datetime.date(2010, 11, 1)),\n",
       " Row(client_id=41175, age=62, job='retired', marital='married', education='university.degree', credit='no', housing='yes', loan='no', contact='cellular', day_of_week='thu', duration=208, campaign=1, pdays=1, previous=6, poutcome='success', emp_var_rate=-1.1, cons_price_idx=94.767, cons_conf_idx=-50.8, euribor3m=1.031, nr_employed=4963.6, y='yes', date=datetime.date(2010, 11, 1)),\n",
       " Row(client_id=41176, age=34, job='student', marital='single', education='unknown', credit='no', housing='yes', loan='no', contact='cellular', day_of_week='thu', duration=180, campaign=1, pdays=999, previous=2, poutcome='failure', emp_var_rate=-1.1, cons_price_idx=94.767, cons_conf_idx=-50.8, euribor3m=1.031, nr_employed=4963.6, y='no', date=datetime.date(2010, 11, 1)),\n",
       " Row(client_id=41177, age=38, job='housemaid', marital='divorced', education='high.school', credit='no', housing='yes', loan='yes', contact='cellular', day_of_week='thu', duration=360, campaign=1, pdays=999, previous=0, poutcome='nonexistent', emp_var_rate=-1.1, cons_price_idx=94.767, cons_conf_idx=-50.8, euribor3m=1.031, nr_employed=4963.6, y='no', date=datetime.date(2010, 11, 1)),\n",
       " Row(client_id=41178, age=57, job='retired', marital='married', education='professional.course', credit='no', housing='yes', loan='no', contact='cellular', day_of_week='thu', duration=124, campaign=6, pdays=999, previous=0, poutcome='nonexistent', emp_var_rate=-1.1, cons_price_idx=94.767, cons_conf_idx=-50.8, euribor3m=1.031, nr_employed=4963.6, y='no', date=datetime.date(2010, 11, 1)),\n",
       " Row(client_id=41179, age=62, job='retired', marital='married', education='university.degree', credit='no', housing='no', loan='no', contact='cellular', day_of_week='thu', duration=483, campaign=2, pdays=6, previous=3, poutcome='success', emp_var_rate=-1.1, cons_price_idx=94.767, cons_conf_idx=-50.8, euribor3m=1.031, nr_employed=4963.6, y='yes', date=datetime.date(2010, 11, 1)),\n",
       " Row(client_id=41180, age=64, job='retired', marital='divorced', education='professional.course', credit='no', housing='yes', loan='no', contact='cellular', day_of_week='fri', duration=151, campaign=3, pdays=999, previous=0, poutcome='nonexistent', emp_var_rate=-1.1, cons_price_idx=94.767, cons_conf_idx=-50.8, euribor3m=1.028, nr_employed=4963.6, y='no', date=datetime.date(2010, 11, 1)),\n",
       " Row(client_id=41181, age=36, job='admin.', marital='married', education='university.degree', credit='no', housing='no', loan='no', contact='cellular', day_of_week='fri', duration=254, campaign=2, pdays=999, previous=0, poutcome='nonexistent', emp_var_rate=-1.1, cons_price_idx=94.767, cons_conf_idx=-50.8, euribor3m=1.028, nr_employed=4963.6, y='no', date=datetime.date(2010, 11, 1)),\n",
       " Row(client_id=41182, age=37, job='admin.', marital='married', education='university.degree', credit='no', housing='yes', loan='no', contact='cellular', day_of_week='fri', duration=281, campaign=1, pdays=999, previous=0, poutcome='nonexistent', emp_var_rate=-1.1, cons_price_idx=94.767, cons_conf_idx=-50.8, euribor3m=1.028, nr_employed=4963.6, y='yes', date=datetime.date(2010, 11, 1)),\n",
       " Row(client_id=41183, age=29, job='unemployed', marital='single', education='basic', credit='no', housing='yes', loan='no', contact='cellular', day_of_week='fri', duration=112, campaign=1, pdays=9, previous=1, poutcome='success', emp_var_rate=-1.1, cons_price_idx=94.767, cons_conf_idx=-50.8, euribor3m=1.028, nr_employed=4963.6, y='no', date=datetime.date(2010, 11, 1)),\n",
       " Row(client_id=41184, age=73, job='retired', marital='married', education='professional.course', credit='no', housing='yes', loan='no', contact='cellular', day_of_week='fri', duration=334, campaign=1, pdays=999, previous=0, poutcome='nonexistent', emp_var_rate=-1.1, cons_price_idx=94.767, cons_conf_idx=-50.8, euribor3m=1.028, nr_employed=4963.6, y='yes', date=datetime.date(2010, 11, 1)),\n",
       " Row(client_id=41185, age=46, job='blue-collar', marital='married', education='professional.course', credit='no', housing='no', loan='no', contact='cellular', day_of_week='fri', duration=383, campaign=1, pdays=999, previous=0, poutcome='nonexistent', emp_var_rate=-1.1, cons_price_idx=94.767, cons_conf_idx=-50.8, euribor3m=1.028, nr_employed=4963.6, y='no', date=datetime.date(2010, 11, 1)),\n",
       " Row(client_id=41186, age=56, job='retired', marital='married', education='university.degree', credit='no', housing='yes', loan='no', contact='cellular', day_of_week='fri', duration=189, campaign=2, pdays=999, previous=0, poutcome='nonexistent', emp_var_rate=-1.1, cons_price_idx=94.767, cons_conf_idx=-50.8, euribor3m=1.028, nr_employed=4963.6, y='no', date=datetime.date(2010, 11, 1)),\n",
       " Row(client_id=41187, age=44, job='technician', marital='married', education='professional.course', credit='no', housing='no', loan='no', contact='cellular', day_of_week='fri', duration=442, campaign=1, pdays=999, previous=0, poutcome='nonexistent', emp_var_rate=-1.1, cons_price_idx=94.767, cons_conf_idx=-50.8, euribor3m=1.028, nr_employed=4963.6, y='yes', date=datetime.date(2010, 11, 1)),\n",
       " Row(client_id=41188, age=74, job='retired', marital='married', education='professional.course', credit='no', housing='yes', loan='no', contact='cellular', day_of_week='fri', duration=239, campaign=3, pdays=999, previous=1, poutcome='failure', emp_var_rate=-1.1, cons_price_idx=94.767, cons_conf_idx=-50.8, euribor3m=1.028, nr_employed=4963.6, y='no', date=datetime.date(2010, 11, 1))]"
      ]
     },
     "execution_count": 22,
     "metadata": {},
     "output_type": "execute_result"
    }
   ],
   "source": [
    "df = df.withColumnRenamed('date2', 'date')\n",
    "df.tail(20)"
   ]
  },
  {
   "cell_type": "code",
   "execution_count": 23,
   "metadata": {},
   "outputs": [
    {
     "data": {
      "text/plain": [
       "[('client_id', 'bigint'),\n",
       " ('age', 'bigint'),\n",
       " ('job', 'string'),\n",
       " ('marital', 'string'),\n",
       " ('education', 'string'),\n",
       " ('credit', 'string'),\n",
       " ('housing', 'string'),\n",
       " ('loan', 'string'),\n",
       " ('contact', 'string'),\n",
       " ('day_of_week', 'string'),\n",
       " ('duration', 'bigint'),\n",
       " ('campaign', 'bigint'),\n",
       " ('pdays', 'bigint'),\n",
       " ('previous', 'bigint'),\n",
       " ('poutcome', 'string'),\n",
       " ('emp_var_rate', 'double'),\n",
       " ('cons_price_idx', 'double'),\n",
       " ('cons_conf_idx', 'double'),\n",
       " ('euribor3m', 'double'),\n",
       " ('nr_employed', 'double'),\n",
       " ('y', 'string'),\n",
       " ('date', 'date')]"
      ]
     },
     "execution_count": 23,
     "metadata": {},
     "output_type": "execute_result"
    }
   ],
   "source": [
    "df.dtypes"
   ]
  },
  {
   "cell_type": "code",
   "execution_count": 24,
   "metadata": {},
   "outputs": [],
   "source": [
    "import pandas as pd\n",
    "import pandas_gbq"
   ]
  },
  {
   "cell_type": "code",
   "execution_count": 25,
   "metadata": {},
   "outputs": [],
   "source": [
    "pdf = df.toPandas()"
   ]
  },
  {
   "cell_type": "code",
   "execution_count": 26,
   "metadata": {},
   "outputs": [],
   "source": [
    "project_id = 'datafellowship-381910'\n",
    "dataset_id = 'bankmarketing'\n"
   ]
  },
  {
   "cell_type": "code",
   "execution_count": 27,
   "metadata": {},
   "outputs": [],
   "source": [
    "def load_to_bq(df, table_name):\n",
    "    pandas_gbq.to_gbq(df, f'{dataset_id}.{table_name}', project_id=project_id)"
   ]
  },
  {
   "cell_type": "code",
   "execution_count": 28,
   "metadata": {},
   "outputs": [
    {
     "data": {
      "text/plain": [
       "client_id           int64\n",
       "age                 int64\n",
       "job                object\n",
       "marital            object\n",
       "education          object\n",
       "credit             object\n",
       "housing            object\n",
       "loan               object\n",
       "contact            object\n",
       "day_of_week        object\n",
       "duration            int64\n",
       "campaign            int64\n",
       "pdays               int64\n",
       "previous            int64\n",
       "poutcome           object\n",
       "emp_var_rate      float64\n",
       "cons_price_idx    float64\n",
       "cons_conf_idx     float64\n",
       "euribor3m         float64\n",
       "nr_employed       float64\n",
       "y                  object\n",
       "date               object\n",
       "dtype: object"
      ]
     },
     "execution_count": 28,
     "metadata": {},
     "output_type": "execute_result"
    }
   ],
   "source": [
    "pdf.dtypes"
   ]
  },
  {
   "cell_type": "code",
   "execution_count": 29,
   "metadata": {},
   "outputs": [],
   "source": [
    "import datetime\n",
    "\n",
    "# Assume that 'date_col' is a column in your DataFrame that contains 'datetime.date' objects\n",
    "pdf['date'] = pdf['date'].apply(lambda d: d.strftime('%Y-%m-%d'))\n",
    "\n",
    "# Write the DataFrame to BigQuery\n",
    "load_to_bq(pdf, 'bank marketing cleaned')"
   ]
  }
 ],
 "metadata": {
  "kernelspec": {
   "display_name": "Python 3",
   "language": "python",
   "name": "python3"
  },
  "language_info": {
   "codemirror_mode": {
    "name": "ipython",
    "version": 3
   },
   "file_extension": ".py",
   "mimetype": "text/x-python",
   "name": "python",
   "nbconvert_exporter": "python",
   "pygments_lexer": "ipython3",
   "version": "3.11.2"
  },
  "orig_nbformat": 4,
  "vscode": {
   "interpreter": {
    "hash": "5238573367df39f7286bb46f9ff5f08f63a01a80960060ce41e3c79b190280fa"
   }
  }
 },
 "nbformat": 4,
 "nbformat_minor": 2
}
